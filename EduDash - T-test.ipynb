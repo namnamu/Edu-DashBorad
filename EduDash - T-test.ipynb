{
 "cells": [
  {
   "cell_type": "code",
   "execution_count": 5,
   "id": "fb69ca15",
   "metadata": {},
   "outputs": [],
   "source": [
    "import pandas as pd"
   ]
  },
  {
   "cell_type": "markdown",
   "id": "88c5fe39",
   "metadata": {},
   "source": [
    "## df = 16개시도중고등학생의교원1인당학생수"
   ]
  },
  {
   "cell_type": "code",
   "execution_count": 7,
   "id": "e70a1061",
   "metadata": {},
   "outputs": [
    {
     "data": {
      "text/html": [
       "<div>\n",
       "<style scoped>\n",
       "    .dataframe tbody tr th:only-of-type {\n",
       "        vertical-align: middle;\n",
       "    }\n",
       "\n",
       "    .dataframe tbody tr th {\n",
       "        vertical-align: top;\n",
       "    }\n",
       "\n",
       "    .dataframe thead th {\n",
       "        text-align: right;\n",
       "    }\n",
       "</style>\n",
       "<table border=\"1\" class=\"dataframe\">\n",
       "  <thead>\n",
       "    <tr style=\"text-align: right;\">\n",
       "      <th></th>\n",
       "      <th>행정구역별</th>\n",
       "      <th>2008</th>\n",
       "      <th>2010</th>\n",
       "      <th>2012</th>\n",
       "      <th>2014</th>\n",
       "      <th>2016</th>\n",
       "      <th>2018</th>\n",
       "      <th>2020</th>\n",
       "      <th>2022</th>\n",
       "    </tr>\n",
       "  </thead>\n",
       "  <tbody>\n",
       "    <tr>\n",
       "      <th>0</th>\n",
       "      <td>강원특별자치도</td>\n",
       "      <td>13.99</td>\n",
       "      <td>14.00</td>\n",
       "      <td>13.74</td>\n",
       "      <td>12.86</td>\n",
       "      <td>11.56</td>\n",
       "      <td>10.18</td>\n",
       "      <td>9.20</td>\n",
       "      <td>9.03</td>\n",
       "    </tr>\n",
       "    <tr>\n",
       "      <th>1</th>\n",
       "      <td>경기도</td>\n",
       "      <td>18.28</td>\n",
       "      <td>17.54</td>\n",
       "      <td>15.96</td>\n",
       "      <td>14.83</td>\n",
       "      <td>13.91</td>\n",
       "      <td>12.75</td>\n",
       "      <td>11.82</td>\n",
       "      <td>11.56</td>\n",
       "    </tr>\n",
       "    <tr>\n",
       "      <th>2</th>\n",
       "      <td>경상남도</td>\n",
       "      <td>16.47</td>\n",
       "      <td>16.58</td>\n",
       "      <td>15.43</td>\n",
       "      <td>14.38</td>\n",
       "      <td>12.96</td>\n",
       "      <td>11.53</td>\n",
       "      <td>10.84</td>\n",
       "      <td>10.63</td>\n",
       "    </tr>\n",
       "    <tr>\n",
       "      <th>3</th>\n",
       "      <td>경상북도</td>\n",
       "      <td>14.72</td>\n",
       "      <td>14.56</td>\n",
       "      <td>13.87</td>\n",
       "      <td>12.88</td>\n",
       "      <td>11.59</td>\n",
       "      <td>10.41</td>\n",
       "      <td>9.44</td>\n",
       "      <td>9.14</td>\n",
       "    </tr>\n",
       "    <tr>\n",
       "      <th>4</th>\n",
       "      <td>광주광역시</td>\n",
       "      <td>19.13</td>\n",
       "      <td>19.04</td>\n",
       "      <td>16.92</td>\n",
       "      <td>15.82</td>\n",
       "      <td>14.24</td>\n",
       "      <td>12.48</td>\n",
       "      <td>11.36</td>\n",
       "      <td>11.14</td>\n",
       "    </tr>\n",
       "    <tr>\n",
       "      <th>5</th>\n",
       "      <td>대구광역시</td>\n",
       "      <td>18.40</td>\n",
       "      <td>17.98</td>\n",
       "      <td>16.30</td>\n",
       "      <td>15.00</td>\n",
       "      <td>13.27</td>\n",
       "      <td>11.61</td>\n",
       "      <td>10.58</td>\n",
       "      <td>10.15</td>\n",
       "    </tr>\n",
       "    <tr>\n",
       "      <th>6</th>\n",
       "      <td>대전광역시</td>\n",
       "      <td>17.93</td>\n",
       "      <td>17.61</td>\n",
       "      <td>16.13</td>\n",
       "      <td>14.97</td>\n",
       "      <td>13.41</td>\n",
       "      <td>11.71</td>\n",
       "      <td>10.71</td>\n",
       "      <td>10.23</td>\n",
       "    </tr>\n",
       "    <tr>\n",
       "      <th>7</th>\n",
       "      <td>부산광역시</td>\n",
       "      <td>17.02</td>\n",
       "      <td>16.54</td>\n",
       "      <td>15.03</td>\n",
       "      <td>14.01</td>\n",
       "      <td>12.80</td>\n",
       "      <td>11.51</td>\n",
       "      <td>10.68</td>\n",
       "      <td>10.31</td>\n",
       "    </tr>\n",
       "    <tr>\n",
       "      <th>8</th>\n",
       "      <td>서울특별시</td>\n",
       "      <td>17.59</td>\n",
       "      <td>17.08</td>\n",
       "      <td>15.82</td>\n",
       "      <td>14.70</td>\n",
       "      <td>13.32</td>\n",
       "      <td>12.01</td>\n",
       "      <td>11.15</td>\n",
       "      <td>10.85</td>\n",
       "    </tr>\n",
       "    <tr>\n",
       "      <th>9</th>\n",
       "      <td>울산광역시</td>\n",
       "      <td>19.07</td>\n",
       "      <td>18.07</td>\n",
       "      <td>16.06</td>\n",
       "      <td>14.67</td>\n",
       "      <td>12.99</td>\n",
       "      <td>11.51</td>\n",
       "      <td>10.60</td>\n",
       "      <td>10.51</td>\n",
       "    </tr>\n",
       "    <tr>\n",
       "      <th>10</th>\n",
       "      <td>인천광역시</td>\n",
       "      <td>18.45</td>\n",
       "      <td>17.64</td>\n",
       "      <td>15.57</td>\n",
       "      <td>14.36</td>\n",
       "      <td>13.37</td>\n",
       "      <td>12.06</td>\n",
       "      <td>11.32</td>\n",
       "      <td>11.21</td>\n",
       "    </tr>\n",
       "    <tr>\n",
       "      <th>11</th>\n",
       "      <td>전국</td>\n",
       "      <td>17.04</td>\n",
       "      <td>16.74</td>\n",
       "      <td>15.45</td>\n",
       "      <td>14.35</td>\n",
       "      <td>13.10</td>\n",
       "      <td>11.77</td>\n",
       "      <td>10.87</td>\n",
       "      <td>10.58</td>\n",
       "    </tr>\n",
       "    <tr>\n",
       "      <th>12</th>\n",
       "      <td>전라남도</td>\n",
       "      <td>13.31</td>\n",
       "      <td>13.96</td>\n",
       "      <td>13.31</td>\n",
       "      <td>12.28</td>\n",
       "      <td>11.21</td>\n",
       "      <td>9.87</td>\n",
       "      <td>8.84</td>\n",
       "      <td>8.51</td>\n",
       "    </tr>\n",
       "    <tr>\n",
       "      <th>13</th>\n",
       "      <td>전라북도</td>\n",
       "      <td>14.41</td>\n",
       "      <td>14.73</td>\n",
       "      <td>14.09</td>\n",
       "      <td>13.57</td>\n",
       "      <td>12.47</td>\n",
       "      <td>11.09</td>\n",
       "      <td>9.98</td>\n",
       "      <td>9.44</td>\n",
       "    </tr>\n",
       "    <tr>\n",
       "      <th>14</th>\n",
       "      <td>제주특별자치도</td>\n",
       "      <td>17.35</td>\n",
       "      <td>17.72</td>\n",
       "      <td>16.97</td>\n",
       "      <td>15.86</td>\n",
       "      <td>14.48</td>\n",
       "      <td>13.08</td>\n",
       "      <td>12.11</td>\n",
       "      <td>4.87</td>\n",
       "    </tr>\n",
       "    <tr>\n",
       "      <th>15</th>\n",
       "      <td>충청남도</td>\n",
       "      <td>15.21</td>\n",
       "      <td>15.62</td>\n",
       "      <td>15.11</td>\n",
       "      <td>14.16</td>\n",
       "      <td>12.74</td>\n",
       "      <td>11.39</td>\n",
       "      <td>10.68</td>\n",
       "      <td>10.42</td>\n",
       "    </tr>\n",
       "    <tr>\n",
       "      <th>16</th>\n",
       "      <td>충청북도</td>\n",
       "      <td>16.77</td>\n",
       "      <td>16.96</td>\n",
       "      <td>15.53</td>\n",
       "      <td>14.36</td>\n",
       "      <td>12.97</td>\n",
       "      <td>11.49</td>\n",
       "      <td>10.44</td>\n",
       "      <td>9.95</td>\n",
       "    </tr>\n",
       "  </tbody>\n",
       "</table>\n",
       "</div>"
      ],
      "text/plain": [
       "      행정구역별   2008   2010   2012   2014   2016   2018   2020   2022\n",
       "0   강원특별자치도  13.99  14.00  13.74  12.86  11.56  10.18   9.20   9.03\n",
       "1       경기도  18.28  17.54  15.96  14.83  13.91  12.75  11.82  11.56\n",
       "2      경상남도  16.47  16.58  15.43  14.38  12.96  11.53  10.84  10.63\n",
       "3      경상북도  14.72  14.56  13.87  12.88  11.59  10.41   9.44   9.14\n",
       "4     광주광역시  19.13  19.04  16.92  15.82  14.24  12.48  11.36  11.14\n",
       "5     대구광역시  18.40  17.98  16.30  15.00  13.27  11.61  10.58  10.15\n",
       "6     대전광역시  17.93  17.61  16.13  14.97  13.41  11.71  10.71  10.23\n",
       "7     부산광역시  17.02  16.54  15.03  14.01  12.80  11.51  10.68  10.31\n",
       "8     서울특별시  17.59  17.08  15.82  14.70  13.32  12.01  11.15  10.85\n",
       "9     울산광역시  19.07  18.07  16.06  14.67  12.99  11.51  10.60  10.51\n",
       "10    인천광역시  18.45  17.64  15.57  14.36  13.37  12.06  11.32  11.21\n",
       "11       전국  17.04  16.74  15.45  14.35  13.10  11.77  10.87  10.58\n",
       "12     전라남도  13.31  13.96  13.31  12.28  11.21   9.87   8.84   8.51\n",
       "13     전라북도  14.41  14.73  14.09  13.57  12.47  11.09   9.98   9.44\n",
       "14  제주특별자치도  17.35  17.72  16.97  15.86  14.48  13.08  12.11   4.87\n",
       "15     충청남도  15.21  15.62  15.11  14.16  12.74  11.39  10.68  10.42\n",
       "16     충청북도  16.77  16.96  15.53  14.36  12.97  11.49  10.44   9.95"
      ]
     },
     "execution_count": 7,
     "metadata": {},
     "output_type": "execute_result"
    }
   ],
   "source": [
    "df = pd.read_excel('C:/Users/pg627/Downloads/17개시도중고등학생의교원1인당학생수_세종제외.xlsx')\n",
    "df"
   ]
  },
  {
   "cell_type": "code",
   "execution_count": 8,
   "id": "40941db4",
   "metadata": {},
   "outputs": [
    {
     "data": {
      "text/html": [
       "<div>\n",
       "<style scoped>\n",
       "    .dataframe tbody tr th:only-of-type {\n",
       "        vertical-align: middle;\n",
       "    }\n",
       "\n",
       "    .dataframe tbody tr th {\n",
       "        vertical-align: top;\n",
       "    }\n",
       "\n",
       "    .dataframe thead th {\n",
       "        text-align: right;\n",
       "    }\n",
       "</style>\n",
       "<table border=\"1\" class=\"dataframe\">\n",
       "  <thead>\n",
       "    <tr style=\"text-align: right;\">\n",
       "      <th></th>\n",
       "      <th>2008</th>\n",
       "      <th>2010</th>\n",
       "      <th>2012</th>\n",
       "      <th>2014</th>\n",
       "      <th>2016</th>\n",
       "      <th>2018</th>\n",
       "      <th>2020</th>\n",
       "      <th>2022</th>\n",
       "    </tr>\n",
       "    <tr>\n",
       "      <th>행정구역별</th>\n",
       "      <th></th>\n",
       "      <th></th>\n",
       "      <th></th>\n",
       "      <th></th>\n",
       "      <th></th>\n",
       "      <th></th>\n",
       "      <th></th>\n",
       "      <th></th>\n",
       "    </tr>\n",
       "  </thead>\n",
       "  <tbody>\n",
       "    <tr>\n",
       "      <th>강원특별자치도</th>\n",
       "      <td>13.99</td>\n",
       "      <td>14.00</td>\n",
       "      <td>13.74</td>\n",
       "      <td>12.86</td>\n",
       "      <td>11.56</td>\n",
       "      <td>10.18</td>\n",
       "      <td>9.20</td>\n",
       "      <td>9.03</td>\n",
       "    </tr>\n",
       "    <tr>\n",
       "      <th>경기도</th>\n",
       "      <td>18.28</td>\n",
       "      <td>17.54</td>\n",
       "      <td>15.96</td>\n",
       "      <td>14.83</td>\n",
       "      <td>13.91</td>\n",
       "      <td>12.75</td>\n",
       "      <td>11.82</td>\n",
       "      <td>11.56</td>\n",
       "    </tr>\n",
       "    <tr>\n",
       "      <th>경상남도</th>\n",
       "      <td>16.47</td>\n",
       "      <td>16.58</td>\n",
       "      <td>15.43</td>\n",
       "      <td>14.38</td>\n",
       "      <td>12.96</td>\n",
       "      <td>11.53</td>\n",
       "      <td>10.84</td>\n",
       "      <td>10.63</td>\n",
       "    </tr>\n",
       "    <tr>\n",
       "      <th>경상북도</th>\n",
       "      <td>14.72</td>\n",
       "      <td>14.56</td>\n",
       "      <td>13.87</td>\n",
       "      <td>12.88</td>\n",
       "      <td>11.59</td>\n",
       "      <td>10.41</td>\n",
       "      <td>9.44</td>\n",
       "      <td>9.14</td>\n",
       "    </tr>\n",
       "    <tr>\n",
       "      <th>광주광역시</th>\n",
       "      <td>19.13</td>\n",
       "      <td>19.04</td>\n",
       "      <td>16.92</td>\n",
       "      <td>15.82</td>\n",
       "      <td>14.24</td>\n",
       "      <td>12.48</td>\n",
       "      <td>11.36</td>\n",
       "      <td>11.14</td>\n",
       "    </tr>\n",
       "    <tr>\n",
       "      <th>대구광역시</th>\n",
       "      <td>18.40</td>\n",
       "      <td>17.98</td>\n",
       "      <td>16.30</td>\n",
       "      <td>15.00</td>\n",
       "      <td>13.27</td>\n",
       "      <td>11.61</td>\n",
       "      <td>10.58</td>\n",
       "      <td>10.15</td>\n",
       "    </tr>\n",
       "    <tr>\n",
       "      <th>대전광역시</th>\n",
       "      <td>17.93</td>\n",
       "      <td>17.61</td>\n",
       "      <td>16.13</td>\n",
       "      <td>14.97</td>\n",
       "      <td>13.41</td>\n",
       "      <td>11.71</td>\n",
       "      <td>10.71</td>\n",
       "      <td>10.23</td>\n",
       "    </tr>\n",
       "    <tr>\n",
       "      <th>부산광역시</th>\n",
       "      <td>17.02</td>\n",
       "      <td>16.54</td>\n",
       "      <td>15.03</td>\n",
       "      <td>14.01</td>\n",
       "      <td>12.80</td>\n",
       "      <td>11.51</td>\n",
       "      <td>10.68</td>\n",
       "      <td>10.31</td>\n",
       "    </tr>\n",
       "    <tr>\n",
       "      <th>서울특별시</th>\n",
       "      <td>17.59</td>\n",
       "      <td>17.08</td>\n",
       "      <td>15.82</td>\n",
       "      <td>14.70</td>\n",
       "      <td>13.32</td>\n",
       "      <td>12.01</td>\n",
       "      <td>11.15</td>\n",
       "      <td>10.85</td>\n",
       "    </tr>\n",
       "    <tr>\n",
       "      <th>울산광역시</th>\n",
       "      <td>19.07</td>\n",
       "      <td>18.07</td>\n",
       "      <td>16.06</td>\n",
       "      <td>14.67</td>\n",
       "      <td>12.99</td>\n",
       "      <td>11.51</td>\n",
       "      <td>10.60</td>\n",
       "      <td>10.51</td>\n",
       "    </tr>\n",
       "    <tr>\n",
       "      <th>인천광역시</th>\n",
       "      <td>18.45</td>\n",
       "      <td>17.64</td>\n",
       "      <td>15.57</td>\n",
       "      <td>14.36</td>\n",
       "      <td>13.37</td>\n",
       "      <td>12.06</td>\n",
       "      <td>11.32</td>\n",
       "      <td>11.21</td>\n",
       "    </tr>\n",
       "    <tr>\n",
       "      <th>전라남도</th>\n",
       "      <td>13.31</td>\n",
       "      <td>13.96</td>\n",
       "      <td>13.31</td>\n",
       "      <td>12.28</td>\n",
       "      <td>11.21</td>\n",
       "      <td>9.87</td>\n",
       "      <td>8.84</td>\n",
       "      <td>8.51</td>\n",
       "    </tr>\n",
       "    <tr>\n",
       "      <th>전라북도</th>\n",
       "      <td>14.41</td>\n",
       "      <td>14.73</td>\n",
       "      <td>14.09</td>\n",
       "      <td>13.57</td>\n",
       "      <td>12.47</td>\n",
       "      <td>11.09</td>\n",
       "      <td>9.98</td>\n",
       "      <td>9.44</td>\n",
       "    </tr>\n",
       "    <tr>\n",
       "      <th>제주특별자치도</th>\n",
       "      <td>17.35</td>\n",
       "      <td>17.72</td>\n",
       "      <td>16.97</td>\n",
       "      <td>15.86</td>\n",
       "      <td>14.48</td>\n",
       "      <td>13.08</td>\n",
       "      <td>12.11</td>\n",
       "      <td>4.87</td>\n",
       "    </tr>\n",
       "    <tr>\n",
       "      <th>충청남도</th>\n",
       "      <td>15.21</td>\n",
       "      <td>15.62</td>\n",
       "      <td>15.11</td>\n",
       "      <td>14.16</td>\n",
       "      <td>12.74</td>\n",
       "      <td>11.39</td>\n",
       "      <td>10.68</td>\n",
       "      <td>10.42</td>\n",
       "    </tr>\n",
       "    <tr>\n",
       "      <th>충청북도</th>\n",
       "      <td>16.77</td>\n",
       "      <td>16.96</td>\n",
       "      <td>15.53</td>\n",
       "      <td>14.36</td>\n",
       "      <td>12.97</td>\n",
       "      <td>11.49</td>\n",
       "      <td>10.44</td>\n",
       "      <td>9.95</td>\n",
       "    </tr>\n",
       "  </tbody>\n",
       "</table>\n",
       "</div>"
      ],
      "text/plain": [
       "          2008   2010   2012   2014   2016   2018   2020   2022\n",
       "행정구역별                                                          \n",
       "강원특별자치도  13.99  14.00  13.74  12.86  11.56  10.18   9.20   9.03\n",
       "경기도      18.28  17.54  15.96  14.83  13.91  12.75  11.82  11.56\n",
       "경상남도     16.47  16.58  15.43  14.38  12.96  11.53  10.84  10.63\n",
       "경상북도     14.72  14.56  13.87  12.88  11.59  10.41   9.44   9.14\n",
       "광주광역시    19.13  19.04  16.92  15.82  14.24  12.48  11.36  11.14\n",
       "대구광역시    18.40  17.98  16.30  15.00  13.27  11.61  10.58  10.15\n",
       "대전광역시    17.93  17.61  16.13  14.97  13.41  11.71  10.71  10.23\n",
       "부산광역시    17.02  16.54  15.03  14.01  12.80  11.51  10.68  10.31\n",
       "서울특별시    17.59  17.08  15.82  14.70  13.32  12.01  11.15  10.85\n",
       "울산광역시    19.07  18.07  16.06  14.67  12.99  11.51  10.60  10.51\n",
       "인천광역시    18.45  17.64  15.57  14.36  13.37  12.06  11.32  11.21\n",
       "전라남도     13.31  13.96  13.31  12.28  11.21   9.87   8.84   8.51\n",
       "전라북도     14.41  14.73  14.09  13.57  12.47  11.09   9.98   9.44\n",
       "제주특별자치도  17.35  17.72  16.97  15.86  14.48  13.08  12.11   4.87\n",
       "충청남도     15.21  15.62  15.11  14.16  12.74  11.39  10.68  10.42\n",
       "충청북도     16.77  16.96  15.53  14.36  12.97  11.49  10.44   9.95"
      ]
     },
     "execution_count": 8,
     "metadata": {},
     "output_type": "execute_result"
    }
   ],
   "source": [
    "# 전국 빼기\n",
    "df = df[df['행정구역별']!='전국'].reset_index(drop=True)\n",
    "df = df.set_index(keys='행정구역별')\n",
    "df"
   ]
  },
  {
   "cell_type": "markdown",
   "id": "96e95251",
   "metadata": {},
   "source": [
    "## df2 = 16개시도중고등학생의학교생활만족도와교원1인당_학생수"
   ]
  },
  {
   "cell_type": "code",
   "execution_count": 9,
   "id": "e1050459",
   "metadata": {
    "scrolled": false
   },
   "outputs": [
    {
     "data": {
      "text/html": [
       "<div>\n",
       "<style scoped>\n",
       "    .dataframe tbody tr th:only-of-type {\n",
       "        vertical-align: middle;\n",
       "    }\n",
       "\n",
       "    .dataframe tbody tr th {\n",
       "        vertical-align: top;\n",
       "    }\n",
       "\n",
       "    .dataframe thead th {\n",
       "        text-align: right;\n",
       "    }\n",
       "</style>\n",
       "<table border=\"1\" class=\"dataframe\">\n",
       "  <thead>\n",
       "    <tr style=\"text-align: right;\">\n",
       "      <th></th>\n",
       "      <th>행정구역별</th>\n",
       "      <th>시점</th>\n",
       "      <th>매우만족</th>\n",
       "      <th>약간만족</th>\n",
       "      <th>보통</th>\n",
       "      <th>약간불만족</th>\n",
       "      <th>매우불만족</th>\n",
       "      <th>만족도환산점수</th>\n",
       "      <th>재적학생수</th>\n",
       "      <th>교원수</th>\n",
       "      <th>교원1인당학생수</th>\n",
       "    </tr>\n",
       "  </thead>\n",
       "  <tbody>\n",
       "    <tr>\n",
       "      <th>0</th>\n",
       "      <td>전국</td>\n",
       "      <td>2008</td>\n",
       "      <td>11.9</td>\n",
       "      <td>39.2</td>\n",
       "      <td>43.1</td>\n",
       "      <td>4.9</td>\n",
       "      <td>0.9</td>\n",
       "      <td>356.3</td>\n",
       "      <td>3945589</td>\n",
       "      <td>231606</td>\n",
       "      <td>17.04</td>\n",
       "    </tr>\n",
       "    <tr>\n",
       "      <th>1</th>\n",
       "      <td>서울</td>\n",
       "      <td>2008</td>\n",
       "      <td>8.7</td>\n",
       "      <td>41.7</td>\n",
       "      <td>43.1</td>\n",
       "      <td>5.3</td>\n",
       "      <td>1.3</td>\n",
       "      <td>351.5</td>\n",
       "      <td>727521</td>\n",
       "      <td>41353</td>\n",
       "      <td>17.59</td>\n",
       "    </tr>\n",
       "    <tr>\n",
       "      <th>2</th>\n",
       "      <td>부산</td>\n",
       "      <td>2008</td>\n",
       "      <td>11.7</td>\n",
       "      <td>41.7</td>\n",
       "      <td>41.3</td>\n",
       "      <td>4.5</td>\n",
       "      <td>0.9</td>\n",
       "      <td>359.1</td>\n",
       "      <td>279047</td>\n",
       "      <td>16400</td>\n",
       "      <td>17.02</td>\n",
       "    </tr>\n",
       "    <tr>\n",
       "      <th>3</th>\n",
       "      <td>대구</td>\n",
       "      <td>2008</td>\n",
       "      <td>8.8</td>\n",
       "      <td>41.2</td>\n",
       "      <td>45.6</td>\n",
       "      <td>3.3</td>\n",
       "      <td>1.1</td>\n",
       "      <td>353.3</td>\n",
       "      <td>220335</td>\n",
       "      <td>11975</td>\n",
       "      <td>18.40</td>\n",
       "    </tr>\n",
       "    <tr>\n",
       "      <th>4</th>\n",
       "      <td>인천</td>\n",
       "      <td>2008</td>\n",
       "      <td>13.5</td>\n",
       "      <td>33.9</td>\n",
       "      <td>45.2</td>\n",
       "      <td>6.5</td>\n",
       "      <td>0.9</td>\n",
       "      <td>352.6</td>\n",
       "      <td>230396</td>\n",
       "      <td>12490</td>\n",
       "      <td>18.45</td>\n",
       "    </tr>\n",
       "    <tr>\n",
       "      <th>...</th>\n",
       "      <td>...</td>\n",
       "      <td>...</td>\n",
       "      <td>...</td>\n",
       "      <td>...</td>\n",
       "      <td>...</td>\n",
       "      <td>...</td>\n",
       "      <td>...</td>\n",
       "      <td>...</td>\n",
       "      <td>...</td>\n",
       "      <td>...</td>\n",
       "      <td>...</td>\n",
       "    </tr>\n",
       "    <tr>\n",
       "      <th>131</th>\n",
       "      <td>전북</td>\n",
       "      <td>2022</td>\n",
       "      <td>12.1</td>\n",
       "      <td>29.4</td>\n",
       "      <td>49.4</td>\n",
       "      <td>4.9</td>\n",
       "      <td>4.2</td>\n",
       "      <td>340.3</td>\n",
       "      <td>97349</td>\n",
       "      <td>10307</td>\n",
       "      <td>9.44</td>\n",
       "    </tr>\n",
       "    <tr>\n",
       "      <th>132</th>\n",
       "      <td>전남</td>\n",
       "      <td>2022</td>\n",
       "      <td>25.1</td>\n",
       "      <td>32.6</td>\n",
       "      <td>30.4</td>\n",
       "      <td>8.8</td>\n",
       "      <td>3.2</td>\n",
       "      <td>367.9</td>\n",
       "      <td>91739</td>\n",
       "      <td>10782</td>\n",
       "      <td>8.51</td>\n",
       "    </tr>\n",
       "    <tr>\n",
       "      <th>133</th>\n",
       "      <td>경북</td>\n",
       "      <td>2022</td>\n",
       "      <td>19.5</td>\n",
       "      <td>28.6</td>\n",
       "      <td>51.0</td>\n",
       "      <td>1.0</td>\n",
       "      <td>0.0</td>\n",
       "      <td>366.9</td>\n",
       "      <td>126796</td>\n",
       "      <td>13877</td>\n",
       "      <td>9.14</td>\n",
       "    </tr>\n",
       "    <tr>\n",
       "      <th>134</th>\n",
       "      <td>경남</td>\n",
       "      <td>2022</td>\n",
       "      <td>24.2</td>\n",
       "      <td>30.1</td>\n",
       "      <td>38.9</td>\n",
       "      <td>5.4</td>\n",
       "      <td>1.4</td>\n",
       "      <td>370.3</td>\n",
       "      <td>179650</td>\n",
       "      <td>16898</td>\n",
       "      <td>10.63</td>\n",
       "    </tr>\n",
       "    <tr>\n",
       "      <th>135</th>\n",
       "      <td>제주</td>\n",
       "      <td>2022</td>\n",
       "      <td>23.5</td>\n",
       "      <td>28.8</td>\n",
       "      <td>42.6</td>\n",
       "      <td>5.1</td>\n",
       "      <td>0.0</td>\n",
       "      <td>370.7</td>\n",
       "      <td>12255</td>\n",
       "      <td>2517</td>\n",
       "      <td>4.87</td>\n",
       "    </tr>\n",
       "  </tbody>\n",
       "</table>\n",
       "<p>136 rows × 11 columns</p>\n",
       "</div>"
      ],
      "text/plain": [
       "    행정구역별    시점  매우만족  약간만족    보통  약간불만족  매우불만족  만족도환산점수    재적학생수     교원수  \\\n",
       "0      전국  2008  11.9  39.2  43.1    4.9    0.9    356.3  3945589  231606   \n",
       "1      서울  2008   8.7  41.7  43.1    5.3    1.3    351.5   727521   41353   \n",
       "2      부산  2008  11.7  41.7  41.3    4.5    0.9    359.1   279047   16400   \n",
       "3      대구  2008   8.8  41.2  45.6    3.3    1.1    353.3   220335   11975   \n",
       "4      인천  2008  13.5  33.9  45.2    6.5    0.9    352.6   230396   12490   \n",
       "..    ...   ...   ...   ...   ...    ...    ...      ...      ...     ...   \n",
       "131    전북  2022  12.1  29.4  49.4    4.9    4.2    340.3    97349   10307   \n",
       "132    전남  2022  25.1  32.6  30.4    8.8    3.2    367.9    91739   10782   \n",
       "133    경북  2022  19.5  28.6  51.0    1.0    0.0    366.9   126796   13877   \n",
       "134    경남  2022  24.2  30.1  38.9    5.4    1.4    370.3   179650   16898   \n",
       "135    제주  2022  23.5  28.8  42.6    5.1    0.0    370.7    12255    2517   \n",
       "\n",
       "     교원1인당학생수  \n",
       "0       17.04  \n",
       "1       17.59  \n",
       "2       17.02  \n",
       "3       18.40  \n",
       "4       18.45  \n",
       "..        ...  \n",
       "131      9.44  \n",
       "132      8.51  \n",
       "133      9.14  \n",
       "134     10.63  \n",
       "135      4.87  \n",
       "\n",
       "[136 rows x 11 columns]"
      ]
     },
     "execution_count": 9,
     "metadata": {},
     "output_type": "execute_result"
    }
   ],
   "source": [
    "df2 = pd.read_excel('C:/Users/pg627/Downloads/17개시도중고등학생의학교생활만족도와교원1인당학생수세종제외.xlsx')\n",
    "df2"
   ]
  },
  {
   "cell_type": "code",
   "execution_count": 10,
   "id": "4e4f3fc3",
   "metadata": {},
   "outputs": [
    {
     "data": {
      "text/html": [
       "<div>\n",
       "<style scoped>\n",
       "    .dataframe tbody tr th:only-of-type {\n",
       "        vertical-align: middle;\n",
       "    }\n",
       "\n",
       "    .dataframe tbody tr th {\n",
       "        vertical-align: top;\n",
       "    }\n",
       "\n",
       "    .dataframe thead th {\n",
       "        text-align: right;\n",
       "    }\n",
       "</style>\n",
       "<table border=\"1\" class=\"dataframe\">\n",
       "  <thead>\n",
       "    <tr style=\"text-align: right;\">\n",
       "      <th></th>\n",
       "      <th>행정구역별</th>\n",
       "      <th>시점</th>\n",
       "      <th>매우만족</th>\n",
       "      <th>약간만족</th>\n",
       "      <th>보통</th>\n",
       "      <th>약간불만족</th>\n",
       "      <th>매우불만족</th>\n",
       "      <th>만족도환산점수</th>\n",
       "      <th>재적학생수</th>\n",
       "      <th>교원수</th>\n",
       "      <th>교원1인당학생수</th>\n",
       "    </tr>\n",
       "  </thead>\n",
       "  <tbody>\n",
       "    <tr>\n",
       "      <th>1</th>\n",
       "      <td>서울</td>\n",
       "      <td>2008</td>\n",
       "      <td>8.7</td>\n",
       "      <td>41.7</td>\n",
       "      <td>43.1</td>\n",
       "      <td>5.3</td>\n",
       "      <td>1.3</td>\n",
       "      <td>351.5</td>\n",
       "      <td>727521</td>\n",
       "      <td>41353</td>\n",
       "      <td>17.59</td>\n",
       "    </tr>\n",
       "    <tr>\n",
       "      <th>2</th>\n",
       "      <td>부산</td>\n",
       "      <td>2008</td>\n",
       "      <td>11.7</td>\n",
       "      <td>41.7</td>\n",
       "      <td>41.3</td>\n",
       "      <td>4.5</td>\n",
       "      <td>0.9</td>\n",
       "      <td>359.1</td>\n",
       "      <td>279047</td>\n",
       "      <td>16400</td>\n",
       "      <td>17.02</td>\n",
       "    </tr>\n",
       "    <tr>\n",
       "      <th>3</th>\n",
       "      <td>대구</td>\n",
       "      <td>2008</td>\n",
       "      <td>8.8</td>\n",
       "      <td>41.2</td>\n",
       "      <td>45.6</td>\n",
       "      <td>3.3</td>\n",
       "      <td>1.1</td>\n",
       "      <td>353.3</td>\n",
       "      <td>220335</td>\n",
       "      <td>11975</td>\n",
       "      <td>18.40</td>\n",
       "    </tr>\n",
       "    <tr>\n",
       "      <th>4</th>\n",
       "      <td>인천</td>\n",
       "      <td>2008</td>\n",
       "      <td>13.5</td>\n",
       "      <td>33.9</td>\n",
       "      <td>45.2</td>\n",
       "      <td>6.5</td>\n",
       "      <td>0.9</td>\n",
       "      <td>352.6</td>\n",
       "      <td>230396</td>\n",
       "      <td>12490</td>\n",
       "      <td>18.45</td>\n",
       "    </tr>\n",
       "    <tr>\n",
       "      <th>5</th>\n",
       "      <td>광주</td>\n",
       "      <td>2008</td>\n",
       "      <td>15.5</td>\n",
       "      <td>40.6</td>\n",
       "      <td>38.6</td>\n",
       "      <td>5.2</td>\n",
       "      <td>0.0</td>\n",
       "      <td>366.1</td>\n",
       "      <td>135451</td>\n",
       "      <td>7082</td>\n",
       "      <td>19.13</td>\n",
       "    </tr>\n",
       "    <tr>\n",
       "      <th>...</th>\n",
       "      <td>...</td>\n",
       "      <td>...</td>\n",
       "      <td>...</td>\n",
       "      <td>...</td>\n",
       "      <td>...</td>\n",
       "      <td>...</td>\n",
       "      <td>...</td>\n",
       "      <td>...</td>\n",
       "      <td>...</td>\n",
       "      <td>...</td>\n",
       "      <td>...</td>\n",
       "    </tr>\n",
       "    <tr>\n",
       "      <th>131</th>\n",
       "      <td>전북</td>\n",
       "      <td>2022</td>\n",
       "      <td>12.1</td>\n",
       "      <td>29.4</td>\n",
       "      <td>49.4</td>\n",
       "      <td>4.9</td>\n",
       "      <td>4.2</td>\n",
       "      <td>340.3</td>\n",
       "      <td>97349</td>\n",
       "      <td>10307</td>\n",
       "      <td>9.44</td>\n",
       "    </tr>\n",
       "    <tr>\n",
       "      <th>132</th>\n",
       "      <td>전남</td>\n",
       "      <td>2022</td>\n",
       "      <td>25.1</td>\n",
       "      <td>32.6</td>\n",
       "      <td>30.4</td>\n",
       "      <td>8.8</td>\n",
       "      <td>3.2</td>\n",
       "      <td>367.9</td>\n",
       "      <td>91739</td>\n",
       "      <td>10782</td>\n",
       "      <td>8.51</td>\n",
       "    </tr>\n",
       "    <tr>\n",
       "      <th>133</th>\n",
       "      <td>경북</td>\n",
       "      <td>2022</td>\n",
       "      <td>19.5</td>\n",
       "      <td>28.6</td>\n",
       "      <td>51.0</td>\n",
       "      <td>1.0</td>\n",
       "      <td>0.0</td>\n",
       "      <td>366.9</td>\n",
       "      <td>126796</td>\n",
       "      <td>13877</td>\n",
       "      <td>9.14</td>\n",
       "    </tr>\n",
       "    <tr>\n",
       "      <th>134</th>\n",
       "      <td>경남</td>\n",
       "      <td>2022</td>\n",
       "      <td>24.2</td>\n",
       "      <td>30.1</td>\n",
       "      <td>38.9</td>\n",
       "      <td>5.4</td>\n",
       "      <td>1.4</td>\n",
       "      <td>370.3</td>\n",
       "      <td>179650</td>\n",
       "      <td>16898</td>\n",
       "      <td>10.63</td>\n",
       "    </tr>\n",
       "    <tr>\n",
       "      <th>135</th>\n",
       "      <td>제주</td>\n",
       "      <td>2022</td>\n",
       "      <td>23.5</td>\n",
       "      <td>28.8</td>\n",
       "      <td>42.6</td>\n",
       "      <td>5.1</td>\n",
       "      <td>0.0</td>\n",
       "      <td>370.7</td>\n",
       "      <td>12255</td>\n",
       "      <td>2517</td>\n",
       "      <td>4.87</td>\n",
       "    </tr>\n",
       "  </tbody>\n",
       "</table>\n",
       "<p>128 rows × 11 columns</p>\n",
       "</div>"
      ],
      "text/plain": [
       "    행정구역별    시점  매우만족  약간만족    보통  약간불만족  매우불만족  만족도환산점수   재적학생수    교원수  \\\n",
       "1      서울  2008   8.7  41.7  43.1    5.3    1.3    351.5  727521  41353   \n",
       "2      부산  2008  11.7  41.7  41.3    4.5    0.9    359.1  279047  16400   \n",
       "3      대구  2008   8.8  41.2  45.6    3.3    1.1    353.3  220335  11975   \n",
       "4      인천  2008  13.5  33.9  45.2    6.5    0.9    352.6  230396  12490   \n",
       "5      광주  2008  15.5  40.6  38.6    5.2    0.0    366.1  135451   7082   \n",
       "..    ...   ...   ...   ...   ...    ...    ...      ...     ...    ...   \n",
       "131    전북  2022  12.1  29.4  49.4    4.9    4.2    340.3   97349  10307   \n",
       "132    전남  2022  25.1  32.6  30.4    8.8    3.2    367.9   91739  10782   \n",
       "133    경북  2022  19.5  28.6  51.0    1.0    0.0    366.9  126796  13877   \n",
       "134    경남  2022  24.2  30.1  38.9    5.4    1.4    370.3  179650  16898   \n",
       "135    제주  2022  23.5  28.8  42.6    5.1    0.0    370.7   12255   2517   \n",
       "\n",
       "     교원1인당학생수  \n",
       "1       17.59  \n",
       "2       17.02  \n",
       "3       18.40  \n",
       "4       18.45  \n",
       "5       19.13  \n",
       "..        ...  \n",
       "131      9.44  \n",
       "132      8.51  \n",
       "133      9.14  \n",
       "134     10.63  \n",
       "135      4.87  \n",
       "\n",
       "[128 rows x 11 columns]"
      ]
     },
     "execution_count": 10,
     "metadata": {},
     "output_type": "execute_result"
    }
   ],
   "source": [
    "df2 = df2[df2['행정구역별']!='전국']\n",
    "df2"
   ]
  },
  {
   "cell_type": "markdown",
   "id": "9d5eba17",
   "metadata": {},
   "source": [
    "## 상관분석"
   ]
  },
  {
   "cell_type": "code",
   "execution_count": 11,
   "id": "ba693ef5",
   "metadata": {
    "scrolled": false
   },
   "outputs": [
    {
     "data": {
      "image/png": "[encoded data removed]",
      "text/plain": [
       "<Figure size 640x480 with 1 Axes>"
      ]
     },
     "metadata": {},
     "output_type": "display_data"
    }
   ],
   "source": [
    "X = df2['교원1인당학생수']\n",
    "Y = df2['만족도환산점수']\n",
    "\n",
    "import matplotlib.pyplot as plt\n",
    "plt.rc('font', family='Malgun Gothic')\n",
    "import matplotlib as mpl\n",
    "mpl.rcParams['axes.unicode_minus'] = False\n",
    "plt.scatter(X, Y, alpha=0.5)\n",
    "plt.title('만족도환산점수 ~ 교원1인당 학생수')\n",
    "plt.xlabel('교원1인당 학생수')\n",
    "plt.ylabel('만족도환산점수')\n",
    "plt.show()"
   ]
  },
  {
   "cell_type": "code",
   "execution_count": 12,
   "id": "d3ca8e28",
   "metadata": {},
   "outputs": [
    {
     "data": {
      "text/plain": [
       "-0.562085112384238"
      ]
     },
     "execution_count": 12,
     "metadata": {},
     "output_type": "execute_result"
    }
   ],
   "source": [
    "# 상관계수\n",
    "import numpy as np\n",
    "np.corrcoef(X,Y)[0,1]"
   ]
  },
  {
   "cell_type": "markdown",
   "id": "58d0fad0",
   "metadata": {},
   "source": [
    "## 군집화 분석"
   ]
  },
  {
   "cell_type": "code",
   "execution_count": 14,
   "id": "c3ce0f0d",
   "metadata": {},
   "outputs": [
    {
     "name": "stderr",
     "output_type": "stream",
     "text": [
      "C:\\ProgramData\\anaconda3\\lib\\site-packages\\sklearn\\cluster\\_kmeans.py:870: FutureWarning: The default value of `n_init` will change from 10 to 'auto' in 1.4. Set the value of `n_init` explicitly to suppress the warning\n",
      "  warnings.warn(\n",
      "C:\\ProgramData\\anaconda3\\lib\\site-packages\\sklearn\\cluster\\_kmeans.py:1382: UserWarning: KMeans is known to have a memory leak on Windows with MKL, when there are less chunks than available threads. You can avoid it by setting the environment variable OMP_NUM_THREADS=1.\n",
      "  warnings.warn(\n",
      "C:\\ProgramData\\anaconda3\\lib\\site-packages\\sklearn\\cluster\\_kmeans.py:870: FutureWarning: The default value of `n_init` will change from 10 to 'auto' in 1.4. Set the value of `n_init` explicitly to suppress the warning\n",
      "  warnings.warn(\n",
      "C:\\ProgramData\\anaconda3\\lib\\site-packages\\sklearn\\cluster\\_kmeans.py:1382: UserWarning: KMeans is known to have a memory leak on Windows with MKL, when there are less chunks than available threads. You can avoid it by setting the environment variable OMP_NUM_THREADS=1.\n",
      "  warnings.warn(\n"
     ]
    }
   ],
   "source": [
    "from sklearn.cluster import KMeans\n",
    "\n",
    "k = 2\n",
    "\n",
    "# 그룹 수, random_state 설정\n",
    "model = KMeans(n_clusters = k, random_state = 10)\n",
    "\n",
    "# 정규화된 데이터에 학습\n",
    "model.fit(df)\n",
    "\n",
    "# 클러스터링 결과 각 데이터가 몇 번째 그룹에 속하는지 저장\n",
    "df['cluster'] = model.fit_predict(df)"
   ]
  },
  {
   "cell_type": "code",
   "execution_count": 15,
   "id": "6fcd798b",
   "metadata": {},
   "outputs": [
    {
     "data": {
      "text/html": [
       "<div>\n",
       "<style scoped>\n",
       "    .dataframe tbody tr th:only-of-type {\n",
       "        vertical-align: middle;\n",
       "    }\n",
       "\n",
       "    .dataframe tbody tr th {\n",
       "        vertical-align: top;\n",
       "    }\n",
       "\n",
       "    .dataframe thead th {\n",
       "        text-align: right;\n",
       "    }\n",
       "</style>\n",
       "<table border=\"1\" class=\"dataframe\">\n",
       "  <thead>\n",
       "    <tr style=\"text-align: right;\">\n",
       "      <th></th>\n",
       "      <th>2008</th>\n",
       "      <th>2010</th>\n",
       "      <th>2012</th>\n",
       "      <th>2014</th>\n",
       "      <th>2016</th>\n",
       "      <th>2018</th>\n",
       "      <th>2020</th>\n",
       "      <th>2022</th>\n",
       "    </tr>\n",
       "    <tr>\n",
       "      <th>cluster</th>\n",
       "      <th></th>\n",
       "      <th></th>\n",
       "      <th></th>\n",
       "      <th></th>\n",
       "      <th></th>\n",
       "      <th></th>\n",
       "      <th></th>\n",
       "      <th></th>\n",
       "    </tr>\n",
       "  </thead>\n",
       "  <tbody>\n",
       "    <tr>\n",
       "      <th>0</th>\n",
       "      <td>17.860</td>\n",
       "      <td>17.523636</td>\n",
       "      <td>15.974545</td>\n",
       "      <td>14.814545</td>\n",
       "      <td>13.429091</td>\n",
       "      <td>11.976364</td>\n",
       "      <td>11.055455</td>\n",
       "      <td>10.128182</td>\n",
       "    </tr>\n",
       "    <tr>\n",
       "      <th>1</th>\n",
       "      <td>14.328</td>\n",
       "      <td>14.574000</td>\n",
       "      <td>14.024000</td>\n",
       "      <td>13.150000</td>\n",
       "      <td>11.914000</td>\n",
       "      <td>10.588000</td>\n",
       "      <td>9.628000</td>\n",
       "      <td>9.308000</td>\n",
       "    </tr>\n",
       "  </tbody>\n",
       "</table>\n",
       "</div>"
      ],
      "text/plain": [
       "           2008       2010       2012       2014       2016       2018  \\\n",
       "cluster                                                                  \n",
       "0        17.860  17.523636  15.974545  14.814545  13.429091  11.976364   \n",
       "1        14.328  14.574000  14.024000  13.150000  11.914000  10.588000   \n",
       "\n",
       "              2020       2022  \n",
       "cluster                        \n",
       "0        11.055455  10.128182  \n",
       "1         9.628000   9.308000  "
      ]
     },
     "execution_count": 15,
     "metadata": {},
     "output_type": "execute_result"
    }
   ],
   "source": [
    "# 군집별 평균\n",
    "df.groupby('cluster').mean()"
   ]
  },
  {
   "cell_type": "code",
   "execution_count": 16,
   "id": "dbc54976",
   "metadata": {},
   "outputs": [
    {
     "data": {
      "text/html": [
       "<div>\n",
       "<style scoped>\n",
       "    .dataframe tbody tr th:only-of-type {\n",
       "        vertical-align: middle;\n",
       "    }\n",
       "\n",
       "    .dataframe tbody tr th {\n",
       "        vertical-align: top;\n",
       "    }\n",
       "\n",
       "    .dataframe thead th {\n",
       "        text-align: right;\n",
       "    }\n",
       "</style>\n",
       "<table border=\"1\" class=\"dataframe\">\n",
       "  <thead>\n",
       "    <tr style=\"text-align: right;\">\n",
       "      <th></th>\n",
       "      <th>2008</th>\n",
       "      <th>2010</th>\n",
       "      <th>2012</th>\n",
       "      <th>2014</th>\n",
       "      <th>2016</th>\n",
       "      <th>2018</th>\n",
       "      <th>2020</th>\n",
       "      <th>2022</th>\n",
       "      <th>cluster</th>\n",
       "    </tr>\n",
       "  </thead>\n",
       "  <tbody>\n",
       "    <tr>\n",
       "      <th>0</th>\n",
       "      <td>13.99</td>\n",
       "      <td>14.00</td>\n",
       "      <td>13.74</td>\n",
       "      <td>12.86</td>\n",
       "      <td>11.56</td>\n",
       "      <td>10.18</td>\n",
       "      <td>9.20</td>\n",
       "      <td>9.03</td>\n",
       "      <td>1</td>\n",
       "    </tr>\n",
       "    <tr>\n",
       "      <th>1</th>\n",
       "      <td>18.28</td>\n",
       "      <td>17.54</td>\n",
       "      <td>15.96</td>\n",
       "      <td>14.83</td>\n",
       "      <td>13.91</td>\n",
       "      <td>12.75</td>\n",
       "      <td>11.82</td>\n",
       "      <td>11.56</td>\n",
       "      <td>0</td>\n",
       "    </tr>\n",
       "    <tr>\n",
       "      <th>2</th>\n",
       "      <td>16.47</td>\n",
       "      <td>16.58</td>\n",
       "      <td>15.43</td>\n",
       "      <td>14.38</td>\n",
       "      <td>12.96</td>\n",
       "      <td>11.53</td>\n",
       "      <td>10.84</td>\n",
       "      <td>10.63</td>\n",
       "      <td>0</td>\n",
       "    </tr>\n",
       "    <tr>\n",
       "      <th>3</th>\n",
       "      <td>14.72</td>\n",
       "      <td>14.56</td>\n",
       "      <td>13.87</td>\n",
       "      <td>12.88</td>\n",
       "      <td>11.59</td>\n",
       "      <td>10.41</td>\n",
       "      <td>9.44</td>\n",
       "      <td>9.14</td>\n",
       "      <td>1</td>\n",
       "    </tr>\n",
       "    <tr>\n",
       "      <th>4</th>\n",
       "      <td>19.13</td>\n",
       "      <td>19.04</td>\n",
       "      <td>16.92</td>\n",
       "      <td>15.82</td>\n",
       "      <td>14.24</td>\n",
       "      <td>12.48</td>\n",
       "      <td>11.36</td>\n",
       "      <td>11.14</td>\n",
       "      <td>0</td>\n",
       "    </tr>\n",
       "    <tr>\n",
       "      <th>5</th>\n",
       "      <td>18.40</td>\n",
       "      <td>17.98</td>\n",
       "      <td>16.30</td>\n",
       "      <td>15.00</td>\n",
       "      <td>13.27</td>\n",
       "      <td>11.61</td>\n",
       "      <td>10.58</td>\n",
       "      <td>10.15</td>\n",
       "      <td>0</td>\n",
       "    </tr>\n",
       "    <tr>\n",
       "      <th>6</th>\n",
       "      <td>17.93</td>\n",
       "      <td>17.61</td>\n",
       "      <td>16.13</td>\n",
       "      <td>14.97</td>\n",
       "      <td>13.41</td>\n",
       "      <td>11.71</td>\n",
       "      <td>10.71</td>\n",
       "      <td>10.23</td>\n",
       "      <td>0</td>\n",
       "    </tr>\n",
       "    <tr>\n",
       "      <th>7</th>\n",
       "      <td>17.02</td>\n",
       "      <td>16.54</td>\n",
       "      <td>15.03</td>\n",
       "      <td>14.01</td>\n",
       "      <td>12.80</td>\n",
       "      <td>11.51</td>\n",
       "      <td>10.68</td>\n",
       "      <td>10.31</td>\n",
       "      <td>0</td>\n",
       "    </tr>\n",
       "    <tr>\n",
       "      <th>8</th>\n",
       "      <td>17.59</td>\n",
       "      <td>17.08</td>\n",
       "      <td>15.82</td>\n",
       "      <td>14.70</td>\n",
       "      <td>13.32</td>\n",
       "      <td>12.01</td>\n",
       "      <td>11.15</td>\n",
       "      <td>10.85</td>\n",
       "      <td>0</td>\n",
       "    </tr>\n",
       "    <tr>\n",
       "      <th>9</th>\n",
       "      <td>19.07</td>\n",
       "      <td>18.07</td>\n",
       "      <td>16.06</td>\n",
       "      <td>14.67</td>\n",
       "      <td>12.99</td>\n",
       "      <td>11.51</td>\n",
       "      <td>10.60</td>\n",
       "      <td>10.51</td>\n",
       "      <td>0</td>\n",
       "    </tr>\n",
       "    <tr>\n",
       "      <th>10</th>\n",
       "      <td>18.45</td>\n",
       "      <td>17.64</td>\n",
       "      <td>15.57</td>\n",
       "      <td>14.36</td>\n",
       "      <td>13.37</td>\n",
       "      <td>12.06</td>\n",
       "      <td>11.32</td>\n",
       "      <td>11.21</td>\n",
       "      <td>0</td>\n",
       "    </tr>\n",
       "    <tr>\n",
       "      <th>11</th>\n",
       "      <td>13.31</td>\n",
       "      <td>13.96</td>\n",
       "      <td>13.31</td>\n",
       "      <td>12.28</td>\n",
       "      <td>11.21</td>\n",
       "      <td>9.87</td>\n",
       "      <td>8.84</td>\n",
       "      <td>8.51</td>\n",
       "      <td>1</td>\n",
       "    </tr>\n",
       "    <tr>\n",
       "      <th>12</th>\n",
       "      <td>14.41</td>\n",
       "      <td>14.73</td>\n",
       "      <td>14.09</td>\n",
       "      <td>13.57</td>\n",
       "      <td>12.47</td>\n",
       "      <td>11.09</td>\n",
       "      <td>9.98</td>\n",
       "      <td>9.44</td>\n",
       "      <td>1</td>\n",
       "    </tr>\n",
       "    <tr>\n",
       "      <th>13</th>\n",
       "      <td>17.35</td>\n",
       "      <td>17.72</td>\n",
       "      <td>16.97</td>\n",
       "      <td>15.86</td>\n",
       "      <td>14.48</td>\n",
       "      <td>13.08</td>\n",
       "      <td>12.11</td>\n",
       "      <td>4.87</td>\n",
       "      <td>0</td>\n",
       "    </tr>\n",
       "    <tr>\n",
       "      <th>14</th>\n",
       "      <td>15.21</td>\n",
       "      <td>15.62</td>\n",
       "      <td>15.11</td>\n",
       "      <td>14.16</td>\n",
       "      <td>12.74</td>\n",
       "      <td>11.39</td>\n",
       "      <td>10.68</td>\n",
       "      <td>10.42</td>\n",
       "      <td>1</td>\n",
       "    </tr>\n",
       "    <tr>\n",
       "      <th>15</th>\n",
       "      <td>16.77</td>\n",
       "      <td>16.96</td>\n",
       "      <td>15.53</td>\n",
       "      <td>14.36</td>\n",
       "      <td>12.97</td>\n",
       "      <td>11.49</td>\n",
       "      <td>10.44</td>\n",
       "      <td>9.95</td>\n",
       "      <td>0</td>\n",
       "    </tr>\n",
       "  </tbody>\n",
       "</table>\n",
       "</div>"
      ],
      "text/plain": [
       "     2008   2010   2012   2014   2016   2018   2020   2022  cluster\n",
       "0   13.99  14.00  13.74  12.86  11.56  10.18   9.20   9.03        1\n",
       "1   18.28  17.54  15.96  14.83  13.91  12.75  11.82  11.56        0\n",
       "2   16.47  16.58  15.43  14.38  12.96  11.53  10.84  10.63        0\n",
       "3   14.72  14.56  13.87  12.88  11.59  10.41   9.44   9.14        1\n",
       "4   19.13  19.04  16.92  15.82  14.24  12.48  11.36  11.14        0\n",
       "5   18.40  17.98  16.30  15.00  13.27  11.61  10.58  10.15        0\n",
       "6   17.93  17.61  16.13  14.97  13.41  11.71  10.71  10.23        0\n",
       "7   17.02  16.54  15.03  14.01  12.80  11.51  10.68  10.31        0\n",
       "8   17.59  17.08  15.82  14.70  13.32  12.01  11.15  10.85        0\n",
       "9   19.07  18.07  16.06  14.67  12.99  11.51  10.60  10.51        0\n",
       "10  18.45  17.64  15.57  14.36  13.37  12.06  11.32  11.21        0\n",
       "11  13.31  13.96  13.31  12.28  11.21   9.87   8.84   8.51        1\n",
       "12  14.41  14.73  14.09  13.57  12.47  11.09   9.98   9.44        1\n",
       "13  17.35  17.72  16.97  15.86  14.48  13.08  12.11   4.87        0\n",
       "14  15.21  15.62  15.11  14.16  12.74  11.39  10.68  10.42        1\n",
       "15  16.77  16.96  15.53  14.36  12.97  11.49  10.44   9.95        0"
      ]
     },
     "execution_count": 16,
     "metadata": {},
     "output_type": "execute_result"
    }
   ],
   "source": [
    "dfdf = df.reset_index(drop=True)\n",
    "dfdf"
   ]
  },
  {
   "cell_type": "code",
   "execution_count": 17,
   "id": "6695ce16",
   "metadata": {},
   "outputs": [],
   "source": [
    "dfdf = dfdf.iloc[:,:-1]"
   ]
  },
  {
   "cell_type": "code",
   "execution_count": 18,
   "id": "4d853663",
   "metadata": {},
   "outputs": [
    {
     "data": {
      "text/plain": [
       "array([[ 5.05219015,  0.04112098],\n",
       "       [-2.81774472, -1.11089695],\n",
       "       [-0.04039605, -0.61959786],\n",
       "       [ 4.16242081, -0.05733294],\n",
       "       [-4.51168975, -0.54874956],\n",
       "       [-2.29255183, -0.14299342],\n",
       "       [-1.87899302, -0.14056507],\n",
       "       [ 0.04222054, -0.56132007],\n",
       "       [-1.48909022, -0.68818495],\n",
       "       [-2.50425349, -0.70969162],\n",
       "       [-2.19936435, -1.18638031],\n",
       "       [ 6.12372793,  0.31029173],\n",
       "       [ 3.39229004,  0.15058964],\n",
       "       [-2.32044622,  5.75611511],\n",
       "       [ 1.50116507, -0.43122957],\n",
       "       [-0.2194849 , -0.06117513]])"
      ]
     },
     "execution_count": 18,
     "metadata": {},
     "output_type": "execute_result"
    }
   ],
   "source": [
    "# 주성분분석으로 차원 축소\n",
    "from sklearn.decomposition import PCA\n",
    "X = dfdf.copy()\n",
    "\n",
    "#객체\n",
    "pca = PCA(n_components=2)\n",
    "\n",
    "#적용\n",
    "pca.fit(X)\n",
    "x_pca = pca.transform(X)\n",
    "x_pca"
   ]
  },
  {
   "cell_type": "code",
   "execution_count": 19,
   "id": "eb20210b",
   "metadata": {},
   "outputs": [],
   "source": [
    "df_index = df.reset_index()"
   ]
  },
  {
   "cell_type": "code",
   "execution_count": 20,
   "id": "c9e52745",
   "metadata": {},
   "outputs": [
    {
     "data": {
      "text/html": [
       "<div>\n",
       "<style scoped>\n",
       "    .dataframe tbody tr th:only-of-type {\n",
       "        vertical-align: middle;\n",
       "    }\n",
       "\n",
       "    .dataframe tbody tr th {\n",
       "        vertical-align: top;\n",
       "    }\n",
       "\n",
       "    .dataframe thead th {\n",
       "        text-align: right;\n",
       "    }\n",
       "</style>\n",
       "<table border=\"1\" class=\"dataframe\">\n",
       "  <thead>\n",
       "    <tr style=\"text-align: right;\">\n",
       "      <th></th>\n",
       "      <th>0</th>\n",
       "      <th>1</th>\n",
       "      <th>cluster</th>\n",
       "    </tr>\n",
       "  </thead>\n",
       "  <tbody>\n",
       "    <tr>\n",
       "      <th>0</th>\n",
       "      <td>5.052190</td>\n",
       "      <td>0.041121</td>\n",
       "      <td>1</td>\n",
       "    </tr>\n",
       "    <tr>\n",
       "      <th>1</th>\n",
       "      <td>-2.817745</td>\n",
       "      <td>-1.110897</td>\n",
       "      <td>0</td>\n",
       "    </tr>\n",
       "    <tr>\n",
       "      <th>2</th>\n",
       "      <td>-0.040396</td>\n",
       "      <td>-0.619598</td>\n",
       "      <td>0</td>\n",
       "    </tr>\n",
       "    <tr>\n",
       "      <th>3</th>\n",
       "      <td>4.162421</td>\n",
       "      <td>-0.057333</td>\n",
       "      <td>1</td>\n",
       "    </tr>\n",
       "    <tr>\n",
       "      <th>4</th>\n",
       "      <td>-4.511690</td>\n",
       "      <td>-0.548750</td>\n",
       "      <td>0</td>\n",
       "    </tr>\n",
       "  </tbody>\n",
       "</table>\n",
       "</div>"
      ],
      "text/plain": [
       "          0         1  cluster\n",
       "0  5.052190  0.041121        1\n",
       "1 -2.817745 -1.110897        0\n",
       "2 -0.040396 -0.619598        0\n",
       "3  4.162421 -0.057333        1\n",
       "4 -4.511690 -0.548750        0"
      ]
     },
     "execution_count": 20,
     "metadata": {},
     "output_type": "execute_result"
    }
   ],
   "source": [
    "#x_pca를 보기 쉽게 데이터프레임으로 만들기\n",
    "pca_df = pd.DataFrame(x_pca)\n",
    "pca_df['cluster'] =df_index['cluster'] \n",
    "pca_df.head()"
   ]
  },
  {
   "cell_type": "code",
   "execution_count": 21,
   "id": "14d52820",
   "metadata": {
    "scrolled": false
   },
   "outputs": [
    {
     "data": {
      "image/png": "[encoded data removed]",
      "text/plain": [
       "<Figure size 800x550 with 1 Axes>"
      ]
     },
     "metadata": {},
     "output_type": "display_data"
    }
   ],
   "source": [
    "# 군집 시각화\n",
    "import matplotlib.pyplot as plt\n",
    "import seaborn as sns\n",
    "axs = plt.subplots()\n",
    "axs = sns.scatterplot(x=0, y=1, hue='cluster', data=pca_df)"
   ]
  },
  {
   "cell_type": "code",
   "execution_count": 29,
   "id": "c85e91da",
   "metadata": {},
   "outputs": [
    {
     "data": {
      "image/png": "[encoded data removed]",
      "text/plain": [
       "<Figure size 800x550 with 1 Axes>"
      ]
     },
     "metadata": {},
     "output_type": "display_data"
    }
   ],
   "source": [
    "# 군집 시각화\n",
    "for i in sorted(pca_df['cluster'].unique()):\n",
    "    tmp = pca_df.loc[pca_df['cluster'] == i] #해당하는 클러스터 번호일 때 그림을 그리고, for문 실행하며 위에 덧그림 \n",
    "    plt.scatter(tmp[0], tmp[1])\n",
    "    plt.legend(sorted(pca_df['cluster'].unique()))"
   ]
  },
  {
   "cell_type": "code",
   "execution_count": 30,
   "id": "4cedaea7",
   "metadata": {},
   "outputs": [
    {
     "data": {
      "text/html": [
       "<div>\n",
       "<style scoped>\n",
       "    .dataframe tbody tr th:only-of-type {\n",
       "        vertical-align: middle;\n",
       "    }\n",
       "\n",
       "    .dataframe tbody tr th {\n",
       "        vertical-align: top;\n",
       "    }\n",
       "\n",
       "    .dataframe thead th {\n",
       "        text-align: right;\n",
       "    }\n",
       "</style>\n",
       "<table border=\"1\" class=\"dataframe\">\n",
       "  <thead>\n",
       "    <tr style=\"text-align: right;\">\n",
       "      <th></th>\n",
       "      <th>2008</th>\n",
       "      <th>2010</th>\n",
       "      <th>2012</th>\n",
       "      <th>2014</th>\n",
       "      <th>2016</th>\n",
       "      <th>2018</th>\n",
       "      <th>2020</th>\n",
       "      <th>2022</th>\n",
       "      <th>cluster</th>\n",
       "    </tr>\n",
       "    <tr>\n",
       "      <th>행정구역별</th>\n",
       "      <th></th>\n",
       "      <th></th>\n",
       "      <th></th>\n",
       "      <th></th>\n",
       "      <th></th>\n",
       "      <th></th>\n",
       "      <th></th>\n",
       "      <th></th>\n",
       "      <th></th>\n",
       "    </tr>\n",
       "  </thead>\n",
       "  <tbody>\n",
       "    <tr>\n",
       "      <th>경기도</th>\n",
       "      <td>18.28</td>\n",
       "      <td>17.54</td>\n",
       "      <td>15.96</td>\n",
       "      <td>14.83</td>\n",
       "      <td>13.91</td>\n",
       "      <td>12.75</td>\n",
       "      <td>11.82</td>\n",
       "      <td>11.56</td>\n",
       "      <td>0</td>\n",
       "    </tr>\n",
       "    <tr>\n",
       "      <th>경상남도</th>\n",
       "      <td>16.47</td>\n",
       "      <td>16.58</td>\n",
       "      <td>15.43</td>\n",
       "      <td>14.38</td>\n",
       "      <td>12.96</td>\n",
       "      <td>11.53</td>\n",
       "      <td>10.84</td>\n",
       "      <td>10.63</td>\n",
       "      <td>0</td>\n",
       "    </tr>\n",
       "    <tr>\n",
       "      <th>광주광역시</th>\n",
       "      <td>19.13</td>\n",
       "      <td>19.04</td>\n",
       "      <td>16.92</td>\n",
       "      <td>15.82</td>\n",
       "      <td>14.24</td>\n",
       "      <td>12.48</td>\n",
       "      <td>11.36</td>\n",
       "      <td>11.14</td>\n",
       "      <td>0</td>\n",
       "    </tr>\n",
       "    <tr>\n",
       "      <th>대구광역시</th>\n",
       "      <td>18.40</td>\n",
       "      <td>17.98</td>\n",
       "      <td>16.30</td>\n",
       "      <td>15.00</td>\n",
       "      <td>13.27</td>\n",
       "      <td>11.61</td>\n",
       "      <td>10.58</td>\n",
       "      <td>10.15</td>\n",
       "      <td>0</td>\n",
       "    </tr>\n",
       "    <tr>\n",
       "      <th>대전광역시</th>\n",
       "      <td>17.93</td>\n",
       "      <td>17.61</td>\n",
       "      <td>16.13</td>\n",
       "      <td>14.97</td>\n",
       "      <td>13.41</td>\n",
       "      <td>11.71</td>\n",
       "      <td>10.71</td>\n",
       "      <td>10.23</td>\n",
       "      <td>0</td>\n",
       "    </tr>\n",
       "    <tr>\n",
       "      <th>부산광역시</th>\n",
       "      <td>17.02</td>\n",
       "      <td>16.54</td>\n",
       "      <td>15.03</td>\n",
       "      <td>14.01</td>\n",
       "      <td>12.80</td>\n",
       "      <td>11.51</td>\n",
       "      <td>10.68</td>\n",
       "      <td>10.31</td>\n",
       "      <td>0</td>\n",
       "    </tr>\n",
       "    <tr>\n",
       "      <th>서울특별시</th>\n",
       "      <td>17.59</td>\n",
       "      <td>17.08</td>\n",
       "      <td>15.82</td>\n",
       "      <td>14.70</td>\n",
       "      <td>13.32</td>\n",
       "      <td>12.01</td>\n",
       "      <td>11.15</td>\n",
       "      <td>10.85</td>\n",
       "      <td>0</td>\n",
       "    </tr>\n",
       "    <tr>\n",
       "      <th>울산광역시</th>\n",
       "      <td>19.07</td>\n",
       "      <td>18.07</td>\n",
       "      <td>16.06</td>\n",
       "      <td>14.67</td>\n",
       "      <td>12.99</td>\n",
       "      <td>11.51</td>\n",
       "      <td>10.60</td>\n",
       "      <td>10.51</td>\n",
       "      <td>0</td>\n",
       "    </tr>\n",
       "    <tr>\n",
       "      <th>인천광역시</th>\n",
       "      <td>18.45</td>\n",
       "      <td>17.64</td>\n",
       "      <td>15.57</td>\n",
       "      <td>14.36</td>\n",
       "      <td>13.37</td>\n",
       "      <td>12.06</td>\n",
       "      <td>11.32</td>\n",
       "      <td>11.21</td>\n",
       "      <td>0</td>\n",
       "    </tr>\n",
       "    <tr>\n",
       "      <th>제주특별자치도</th>\n",
       "      <td>17.35</td>\n",
       "      <td>17.72</td>\n",
       "      <td>16.97</td>\n",
       "      <td>15.86</td>\n",
       "      <td>14.48</td>\n",
       "      <td>13.08</td>\n",
       "      <td>12.11</td>\n",
       "      <td>4.87</td>\n",
       "      <td>0</td>\n",
       "    </tr>\n",
       "    <tr>\n",
       "      <th>충청북도</th>\n",
       "      <td>16.77</td>\n",
       "      <td>16.96</td>\n",
       "      <td>15.53</td>\n",
       "      <td>14.36</td>\n",
       "      <td>12.97</td>\n",
       "      <td>11.49</td>\n",
       "      <td>10.44</td>\n",
       "      <td>9.95</td>\n",
       "      <td>0</td>\n",
       "    </tr>\n",
       "    <tr>\n",
       "      <th>강원특별자치도</th>\n",
       "      <td>13.99</td>\n",
       "      <td>14.00</td>\n",
       "      <td>13.74</td>\n",
       "      <td>12.86</td>\n",
       "      <td>11.56</td>\n",
       "      <td>10.18</td>\n",
       "      <td>9.20</td>\n",
       "      <td>9.03</td>\n",
       "      <td>1</td>\n",
       "    </tr>\n",
       "    <tr>\n",
       "      <th>경상북도</th>\n",
       "      <td>14.72</td>\n",
       "      <td>14.56</td>\n",
       "      <td>13.87</td>\n",
       "      <td>12.88</td>\n",
       "      <td>11.59</td>\n",
       "      <td>10.41</td>\n",
       "      <td>9.44</td>\n",
       "      <td>9.14</td>\n",
       "      <td>1</td>\n",
       "    </tr>\n",
       "    <tr>\n",
       "      <th>전라남도</th>\n",
       "      <td>13.31</td>\n",
       "      <td>13.96</td>\n",
       "      <td>13.31</td>\n",
       "      <td>12.28</td>\n",
       "      <td>11.21</td>\n",
       "      <td>9.87</td>\n",
       "      <td>8.84</td>\n",
       "      <td>8.51</td>\n",
       "      <td>1</td>\n",
       "    </tr>\n",
       "    <tr>\n",
       "      <th>전라북도</th>\n",
       "      <td>14.41</td>\n",
       "      <td>14.73</td>\n",
       "      <td>14.09</td>\n",
       "      <td>13.57</td>\n",
       "      <td>12.47</td>\n",
       "      <td>11.09</td>\n",
       "      <td>9.98</td>\n",
       "      <td>9.44</td>\n",
       "      <td>1</td>\n",
       "    </tr>\n",
       "    <tr>\n",
       "      <th>충청남도</th>\n",
       "      <td>15.21</td>\n",
       "      <td>15.62</td>\n",
       "      <td>15.11</td>\n",
       "      <td>14.16</td>\n",
       "      <td>12.74</td>\n",
       "      <td>11.39</td>\n",
       "      <td>10.68</td>\n",
       "      <td>10.42</td>\n",
       "      <td>1</td>\n",
       "    </tr>\n",
       "  </tbody>\n",
       "</table>\n",
       "</div>"
      ],
      "text/plain": [
       "          2008   2010   2012   2014   2016   2018   2020   2022  cluster\n",
       "행정구역별                                                                   \n",
       "경기도      18.28  17.54  15.96  14.83  13.91  12.75  11.82  11.56        0\n",
       "경상남도     16.47  16.58  15.43  14.38  12.96  11.53  10.84  10.63        0\n",
       "광주광역시    19.13  19.04  16.92  15.82  14.24  12.48  11.36  11.14        0\n",
       "대구광역시    18.40  17.98  16.30  15.00  13.27  11.61  10.58  10.15        0\n",
       "대전광역시    17.93  17.61  16.13  14.97  13.41  11.71  10.71  10.23        0\n",
       "부산광역시    17.02  16.54  15.03  14.01  12.80  11.51  10.68  10.31        0\n",
       "서울특별시    17.59  17.08  15.82  14.70  13.32  12.01  11.15  10.85        0\n",
       "울산광역시    19.07  18.07  16.06  14.67  12.99  11.51  10.60  10.51        0\n",
       "인천광역시    18.45  17.64  15.57  14.36  13.37  12.06  11.32  11.21        0\n",
       "제주특별자치도  17.35  17.72  16.97  15.86  14.48  13.08  12.11   4.87        0\n",
       "충청북도     16.77  16.96  15.53  14.36  12.97  11.49  10.44   9.95        0\n",
       "강원특별자치도  13.99  14.00  13.74  12.86  11.56  10.18   9.20   9.03        1\n",
       "경상북도     14.72  14.56  13.87  12.88  11.59  10.41   9.44   9.14        1\n",
       "전라남도     13.31  13.96  13.31  12.28  11.21   9.87   8.84   8.51        1\n",
       "전라북도     14.41  14.73  14.09  13.57  12.47  11.09   9.98   9.44        1\n",
       "충청남도     15.21  15.62  15.11  14.16  12.74  11.39  10.68  10.42        1"
      ]
     },
     "execution_count": 30,
     "metadata": {},
     "output_type": "execute_result"
    }
   ],
   "source": [
    "# 정렬\n",
    "df.sort_values(by='cluster')"
   ]
  },
  {
   "cell_type": "markdown",
   "id": "fd20e979",
   "metadata": {},
   "source": [
    "## 군집별 차이가 있는지 검정"
   ]
  },
  {
   "cell_type": "code",
   "execution_count": 31,
   "id": "5f110946",
   "metadata": {},
   "outputs": [
    {
     "data": {
      "text/html": [
       "<div>\n",
       "<style scoped>\n",
       "    .dataframe tbody tr th:only-of-type {\n",
       "        vertical-align: middle;\n",
       "    }\n",
       "\n",
       "    .dataframe tbody tr th {\n",
       "        vertical-align: top;\n",
       "    }\n",
       "\n",
       "    .dataframe thead th {\n",
       "        text-align: right;\n",
       "    }\n",
       "</style>\n",
       "<table border=\"1\" class=\"dataframe\">\n",
       "  <thead>\n",
       "    <tr style=\"text-align: right;\">\n",
       "      <th></th>\n",
       "      <th>2008</th>\n",
       "      <th>2010</th>\n",
       "      <th>2012</th>\n",
       "      <th>2014</th>\n",
       "      <th>2016</th>\n",
       "      <th>2018</th>\n",
       "      <th>2020</th>\n",
       "      <th>2022</th>\n",
       "      <th>cluster</th>\n",
       "    </tr>\n",
       "    <tr>\n",
       "      <th>행정구역별</th>\n",
       "      <th></th>\n",
       "      <th></th>\n",
       "      <th></th>\n",
       "      <th></th>\n",
       "      <th></th>\n",
       "      <th></th>\n",
       "      <th></th>\n",
       "      <th></th>\n",
       "      <th></th>\n",
       "    </tr>\n",
       "  </thead>\n",
       "  <tbody>\n",
       "    <tr>\n",
       "      <th>경기도</th>\n",
       "      <td>18.28</td>\n",
       "      <td>17.54</td>\n",
       "      <td>15.96</td>\n",
       "      <td>14.83</td>\n",
       "      <td>13.91</td>\n",
       "      <td>12.75</td>\n",
       "      <td>11.82</td>\n",
       "      <td>11.56</td>\n",
       "      <td>0</td>\n",
       "    </tr>\n",
       "    <tr>\n",
       "      <th>경상남도</th>\n",
       "      <td>16.47</td>\n",
       "      <td>16.58</td>\n",
       "      <td>15.43</td>\n",
       "      <td>14.38</td>\n",
       "      <td>12.96</td>\n",
       "      <td>11.53</td>\n",
       "      <td>10.84</td>\n",
       "      <td>10.63</td>\n",
       "      <td>0</td>\n",
       "    </tr>\n",
       "    <tr>\n",
       "      <th>광주광역시</th>\n",
       "      <td>19.13</td>\n",
       "      <td>19.04</td>\n",
       "      <td>16.92</td>\n",
       "      <td>15.82</td>\n",
       "      <td>14.24</td>\n",
       "      <td>12.48</td>\n",
       "      <td>11.36</td>\n",
       "      <td>11.14</td>\n",
       "      <td>0</td>\n",
       "    </tr>\n",
       "    <tr>\n",
       "      <th>대구광역시</th>\n",
       "      <td>18.40</td>\n",
       "      <td>17.98</td>\n",
       "      <td>16.30</td>\n",
       "      <td>15.00</td>\n",
       "      <td>13.27</td>\n",
       "      <td>11.61</td>\n",
       "      <td>10.58</td>\n",
       "      <td>10.15</td>\n",
       "      <td>0</td>\n",
       "    </tr>\n",
       "    <tr>\n",
       "      <th>대전광역시</th>\n",
       "      <td>17.93</td>\n",
       "      <td>17.61</td>\n",
       "      <td>16.13</td>\n",
       "      <td>14.97</td>\n",
       "      <td>13.41</td>\n",
       "      <td>11.71</td>\n",
       "      <td>10.71</td>\n",
       "      <td>10.23</td>\n",
       "      <td>0</td>\n",
       "    </tr>\n",
       "    <tr>\n",
       "      <th>부산광역시</th>\n",
       "      <td>17.02</td>\n",
       "      <td>16.54</td>\n",
       "      <td>15.03</td>\n",
       "      <td>14.01</td>\n",
       "      <td>12.80</td>\n",
       "      <td>11.51</td>\n",
       "      <td>10.68</td>\n",
       "      <td>10.31</td>\n",
       "      <td>0</td>\n",
       "    </tr>\n",
       "    <tr>\n",
       "      <th>서울특별시</th>\n",
       "      <td>17.59</td>\n",
       "      <td>17.08</td>\n",
       "      <td>15.82</td>\n",
       "      <td>14.70</td>\n",
       "      <td>13.32</td>\n",
       "      <td>12.01</td>\n",
       "      <td>11.15</td>\n",
       "      <td>10.85</td>\n",
       "      <td>0</td>\n",
       "    </tr>\n",
       "    <tr>\n",
       "      <th>울산광역시</th>\n",
       "      <td>19.07</td>\n",
       "      <td>18.07</td>\n",
       "      <td>16.06</td>\n",
       "      <td>14.67</td>\n",
       "      <td>12.99</td>\n",
       "      <td>11.51</td>\n",
       "      <td>10.60</td>\n",
       "      <td>10.51</td>\n",
       "      <td>0</td>\n",
       "    </tr>\n",
       "    <tr>\n",
       "      <th>인천광역시</th>\n",
       "      <td>18.45</td>\n",
       "      <td>17.64</td>\n",
       "      <td>15.57</td>\n",
       "      <td>14.36</td>\n",
       "      <td>13.37</td>\n",
       "      <td>12.06</td>\n",
       "      <td>11.32</td>\n",
       "      <td>11.21</td>\n",
       "      <td>0</td>\n",
       "    </tr>\n",
       "    <tr>\n",
       "      <th>제주특별자치도</th>\n",
       "      <td>17.35</td>\n",
       "      <td>17.72</td>\n",
       "      <td>16.97</td>\n",
       "      <td>15.86</td>\n",
       "      <td>14.48</td>\n",
       "      <td>13.08</td>\n",
       "      <td>12.11</td>\n",
       "      <td>4.87</td>\n",
       "      <td>0</td>\n",
       "    </tr>\n",
       "    <tr>\n",
       "      <th>충청북도</th>\n",
       "      <td>16.77</td>\n",
       "      <td>16.96</td>\n",
       "      <td>15.53</td>\n",
       "      <td>14.36</td>\n",
       "      <td>12.97</td>\n",
       "      <td>11.49</td>\n",
       "      <td>10.44</td>\n",
       "      <td>9.95</td>\n",
       "      <td>0</td>\n",
       "    </tr>\n",
       "    <tr>\n",
       "      <th>강원특별자치도</th>\n",
       "      <td>13.99</td>\n",
       "      <td>14.00</td>\n",
       "      <td>13.74</td>\n",
       "      <td>12.86</td>\n",
       "      <td>11.56</td>\n",
       "      <td>10.18</td>\n",
       "      <td>9.20</td>\n",
       "      <td>9.03</td>\n",
       "      <td>1</td>\n",
       "    </tr>\n",
       "    <tr>\n",
       "      <th>경상북도</th>\n",
       "      <td>14.72</td>\n",
       "      <td>14.56</td>\n",
       "      <td>13.87</td>\n",
       "      <td>12.88</td>\n",
       "      <td>11.59</td>\n",
       "      <td>10.41</td>\n",
       "      <td>9.44</td>\n",
       "      <td>9.14</td>\n",
       "      <td>1</td>\n",
       "    </tr>\n",
       "    <tr>\n",
       "      <th>전라남도</th>\n",
       "      <td>13.31</td>\n",
       "      <td>13.96</td>\n",
       "      <td>13.31</td>\n",
       "      <td>12.28</td>\n",
       "      <td>11.21</td>\n",
       "      <td>9.87</td>\n",
       "      <td>8.84</td>\n",
       "      <td>8.51</td>\n",
       "      <td>1</td>\n",
       "    </tr>\n",
       "    <tr>\n",
       "      <th>전라북도</th>\n",
       "      <td>14.41</td>\n",
       "      <td>14.73</td>\n",
       "      <td>14.09</td>\n",
       "      <td>13.57</td>\n",
       "      <td>12.47</td>\n",
       "      <td>11.09</td>\n",
       "      <td>9.98</td>\n",
       "      <td>9.44</td>\n",
       "      <td>1</td>\n",
       "    </tr>\n",
       "    <tr>\n",
       "      <th>충청남도</th>\n",
       "      <td>15.21</td>\n",
       "      <td>15.62</td>\n",
       "      <td>15.11</td>\n",
       "      <td>14.16</td>\n",
       "      <td>12.74</td>\n",
       "      <td>11.39</td>\n",
       "      <td>10.68</td>\n",
       "      <td>10.42</td>\n",
       "      <td>1</td>\n",
       "    </tr>\n",
       "  </tbody>\n",
       "</table>\n",
       "</div>"
      ],
      "text/plain": [
       "          2008   2010   2012   2014   2016   2018   2020   2022  cluster\n",
       "행정구역별                                                                   \n",
       "경기도      18.28  17.54  15.96  14.83  13.91  12.75  11.82  11.56        0\n",
       "경상남도     16.47  16.58  15.43  14.38  12.96  11.53  10.84  10.63        0\n",
       "광주광역시    19.13  19.04  16.92  15.82  14.24  12.48  11.36  11.14        0\n",
       "대구광역시    18.40  17.98  16.30  15.00  13.27  11.61  10.58  10.15        0\n",
       "대전광역시    17.93  17.61  16.13  14.97  13.41  11.71  10.71  10.23        0\n",
       "부산광역시    17.02  16.54  15.03  14.01  12.80  11.51  10.68  10.31        0\n",
       "서울특별시    17.59  17.08  15.82  14.70  13.32  12.01  11.15  10.85        0\n",
       "울산광역시    19.07  18.07  16.06  14.67  12.99  11.51  10.60  10.51        0\n",
       "인천광역시    18.45  17.64  15.57  14.36  13.37  12.06  11.32  11.21        0\n",
       "제주특별자치도  17.35  17.72  16.97  15.86  14.48  13.08  12.11   4.87        0\n",
       "충청북도     16.77  16.96  15.53  14.36  12.97  11.49  10.44   9.95        0\n",
       "강원특별자치도  13.99  14.00  13.74  12.86  11.56  10.18   9.20   9.03        1\n",
       "경상북도     14.72  14.56  13.87  12.88  11.59  10.41   9.44   9.14        1\n",
       "전라남도     13.31  13.96  13.31  12.28  11.21   9.87   8.84   8.51        1\n",
       "전라북도     14.41  14.73  14.09  13.57  12.47  11.09   9.98   9.44        1\n",
       "충청남도     15.21  15.62  15.11  14.16  12.74  11.39  10.68  10.42        1"
      ]
     },
     "execution_count": 31,
     "metadata": {},
     "output_type": "execute_result"
    }
   ],
   "source": [
    "# 정렬\n",
    "df_sort = df.sort_values(by='cluster')\n",
    "df_sort"
   ]
  },
  {
   "cell_type": "code",
   "execution_count": 56,
   "id": "37db5978",
   "metadata": {},
   "outputs": [],
   "source": [
    "df_values = df[df['cluster']==0].iloc[:,:-1]\n",
    "# type(df_values) = numpy.ndarray\n",
    "# df.shape = (10,4)\n",
    "\n",
    "datalist = []\n",
    "datalist.append(df_values)\n",
    "# type(datalist) = list\n",
    "\n",
    "data_array = np.array(datalist)\n",
    "# type(datalist) = numpy.ndarray\n",
    "# data_array.shape = (1,10,4)\n",
    "\n",
    "data_reshape = data_array.reshape(1,88)\n",
    "# type(datalist) = numpy.ndarray\n",
    "# data_array.shape = (1,40)"
   ]
  },
  {
   "cell_type": "code",
   "execution_count": 62,
   "id": "189fcf1f",
   "metadata": {
    "scrolled": true
   },
   "outputs": [
    {
     "data": {
      "text/plain": [
       "array([18.28, 17.54, 15.96, 14.83, 13.91, 12.75, 11.82, 11.56, 16.47,\n",
       "       16.58, 15.43, 14.38, 12.96, 11.53, 10.84, 10.63, 19.13, 19.04,\n",
       "       16.92, 15.82, 14.24, 12.48, 11.36, 11.14, 18.4 , 17.98, 16.3 ,\n",
       "       15.  , 13.27, 11.61, 10.58, 10.15, 17.93, 17.61, 16.13, 14.97,\n",
       "       13.41, 11.71, 10.71, 10.23, 17.02, 16.54, 15.03, 14.01, 12.8 ,\n",
       "       11.51, 10.68, 10.31, 17.59, 17.08, 15.82, 14.7 , 13.32, 12.01,\n",
       "       11.15, 10.85, 19.07, 18.07, 16.06, 14.67, 12.99, 11.51, 10.6 ,\n",
       "       10.51, 18.45, 17.64, 15.57, 14.36, 13.37, 12.06, 11.32, 11.21,\n",
       "       17.35, 17.72, 16.97, 15.86, 14.48, 13.08, 12.11,  4.87, 16.77,\n",
       "       16.96, 15.53, 14.36, 12.97, 11.49, 10.44,  9.95])"
      ]
     },
     "execution_count": 62,
     "metadata": {},
     "output_type": "execute_result"
    }
   ],
   "source": [
    "data_reshape[0]"
   ]
  },
  {
   "cell_type": "code",
   "execution_count": 64,
   "id": "2b19525b",
   "metadata": {},
   "outputs": [
    {
     "data": {
      "text/html": [
       "<div>\n",
       "<style scoped>\n",
       "    .dataframe tbody tr th:only-of-type {\n",
       "        vertical-align: middle;\n",
       "    }\n",
       "\n",
       "    .dataframe tbody tr th {\n",
       "        vertical-align: top;\n",
       "    }\n",
       "\n",
       "    .dataframe thead th {\n",
       "        text-align: right;\n",
       "    }\n",
       "</style>\n",
       "<table border=\"1\" class=\"dataframe\">\n",
       "  <thead>\n",
       "    <tr style=\"text-align: right;\">\n",
       "      <th></th>\n",
       "      <th>0</th>\n",
       "    </tr>\n",
       "  </thead>\n",
       "  <tbody>\n",
       "    <tr>\n",
       "      <th>0</th>\n",
       "      <td>18.28</td>\n",
       "    </tr>\n",
       "    <tr>\n",
       "      <th>1</th>\n",
       "      <td>17.54</td>\n",
       "    </tr>\n",
       "    <tr>\n",
       "      <th>2</th>\n",
       "      <td>15.96</td>\n",
       "    </tr>\n",
       "    <tr>\n",
       "      <th>3</th>\n",
       "      <td>14.83</td>\n",
       "    </tr>\n",
       "    <tr>\n",
       "      <th>4</th>\n",
       "      <td>13.91</td>\n",
       "    </tr>\n",
       "    <tr>\n",
       "      <th>...</th>\n",
       "      <td>...</td>\n",
       "    </tr>\n",
       "    <tr>\n",
       "      <th>83</th>\n",
       "      <td>14.36</td>\n",
       "    </tr>\n",
       "    <tr>\n",
       "      <th>84</th>\n",
       "      <td>12.97</td>\n",
       "    </tr>\n",
       "    <tr>\n",
       "      <th>85</th>\n",
       "      <td>11.49</td>\n",
       "    </tr>\n",
       "    <tr>\n",
       "      <th>86</th>\n",
       "      <td>10.44</td>\n",
       "    </tr>\n",
       "    <tr>\n",
       "      <th>87</th>\n",
       "      <td>9.95</td>\n",
       "    </tr>\n",
       "  </tbody>\n",
       "</table>\n",
       "<p>88 rows × 1 columns</p>\n",
       "</div>"
      ],
      "text/plain": [
       "        0\n",
       "0   18.28\n",
       "1   17.54\n",
       "2   15.96\n",
       "3   14.83\n",
       "4   13.91\n",
       "..    ...\n",
       "83  14.36\n",
       "84  12.97\n",
       "85  11.49\n",
       "86  10.44\n",
       "87   9.95\n",
       "\n",
       "[88 rows x 1 columns]"
      ]
     },
     "execution_count": 64,
     "metadata": {},
     "output_type": "execute_result"
    }
   ],
   "source": [
    "# 군집 0\n",
    "cl0 = pd.DataFrame({'0':data_reshape[0]})\n",
    "cl0"
   ]
  },
  {
   "cell_type": "code",
   "execution_count": 66,
   "id": "9f75ab1d",
   "metadata": {
    "scrolled": true
   },
   "outputs": [
    {
     "data": {
      "text/html": [
       "<div>\n",
       "<style scoped>\n",
       "    .dataframe tbody tr th:only-of-type {\n",
       "        vertical-align: middle;\n",
       "    }\n",
       "\n",
       "    .dataframe tbody tr th {\n",
       "        vertical-align: top;\n",
       "    }\n",
       "\n",
       "    .dataframe thead th {\n",
       "        text-align: right;\n",
       "    }\n",
       "</style>\n",
       "<table border=\"1\" class=\"dataframe\">\n",
       "  <thead>\n",
       "    <tr style=\"text-align: right;\">\n",
       "      <th></th>\n",
       "      <th>1</th>\n",
       "    </tr>\n",
       "  </thead>\n",
       "  <tbody>\n",
       "    <tr>\n",
       "      <th>0</th>\n",
       "      <td>13.99</td>\n",
       "    </tr>\n",
       "    <tr>\n",
       "      <th>1</th>\n",
       "      <td>14.00</td>\n",
       "    </tr>\n",
       "    <tr>\n",
       "      <th>2</th>\n",
       "      <td>13.74</td>\n",
       "    </tr>\n",
       "    <tr>\n",
       "      <th>3</th>\n",
       "      <td>12.86</td>\n",
       "    </tr>\n",
       "    <tr>\n",
       "      <th>4</th>\n",
       "      <td>11.56</td>\n",
       "    </tr>\n",
       "    <tr>\n",
       "      <th>5</th>\n",
       "      <td>10.18</td>\n",
       "    </tr>\n",
       "    <tr>\n",
       "      <th>6</th>\n",
       "      <td>9.20</td>\n",
       "    </tr>\n",
       "    <tr>\n",
       "      <th>7</th>\n",
       "      <td>9.03</td>\n",
       "    </tr>\n",
       "    <tr>\n",
       "      <th>8</th>\n",
       "      <td>14.72</td>\n",
       "    </tr>\n",
       "    <tr>\n",
       "      <th>9</th>\n",
       "      <td>14.56</td>\n",
       "    </tr>\n",
       "    <tr>\n",
       "      <th>10</th>\n",
       "      <td>13.87</td>\n",
       "    </tr>\n",
       "    <tr>\n",
       "      <th>11</th>\n",
       "      <td>12.88</td>\n",
       "    </tr>\n",
       "    <tr>\n",
       "      <th>12</th>\n",
       "      <td>11.59</td>\n",
       "    </tr>\n",
       "    <tr>\n",
       "      <th>13</th>\n",
       "      <td>10.41</td>\n",
       "    </tr>\n",
       "    <tr>\n",
       "      <th>14</th>\n",
       "      <td>9.44</td>\n",
       "    </tr>\n",
       "    <tr>\n",
       "      <th>15</th>\n",
       "      <td>9.14</td>\n",
       "    </tr>\n",
       "    <tr>\n",
       "      <th>16</th>\n",
       "      <td>13.31</td>\n",
       "    </tr>\n",
       "    <tr>\n",
       "      <th>17</th>\n",
       "      <td>13.96</td>\n",
       "    </tr>\n",
       "    <tr>\n",
       "      <th>18</th>\n",
       "      <td>13.31</td>\n",
       "    </tr>\n",
       "    <tr>\n",
       "      <th>19</th>\n",
       "      <td>12.28</td>\n",
       "    </tr>\n",
       "    <tr>\n",
       "      <th>20</th>\n",
       "      <td>11.21</td>\n",
       "    </tr>\n",
       "    <tr>\n",
       "      <th>21</th>\n",
       "      <td>9.87</td>\n",
       "    </tr>\n",
       "    <tr>\n",
       "      <th>22</th>\n",
       "      <td>8.84</td>\n",
       "    </tr>\n",
       "    <tr>\n",
       "      <th>23</th>\n",
       "      <td>8.51</td>\n",
       "    </tr>\n",
       "    <tr>\n",
       "      <th>24</th>\n",
       "      <td>14.41</td>\n",
       "    </tr>\n",
       "    <tr>\n",
       "      <th>25</th>\n",
       "      <td>14.73</td>\n",
       "    </tr>\n",
       "    <tr>\n",
       "      <th>26</th>\n",
       "      <td>14.09</td>\n",
       "    </tr>\n",
       "    <tr>\n",
       "      <th>27</th>\n",
       "      <td>13.57</td>\n",
       "    </tr>\n",
       "    <tr>\n",
       "      <th>28</th>\n",
       "      <td>12.47</td>\n",
       "    </tr>\n",
       "    <tr>\n",
       "      <th>29</th>\n",
       "      <td>11.09</td>\n",
       "    </tr>\n",
       "    <tr>\n",
       "      <th>30</th>\n",
       "      <td>9.98</td>\n",
       "    </tr>\n",
       "    <tr>\n",
       "      <th>31</th>\n",
       "      <td>9.44</td>\n",
       "    </tr>\n",
       "    <tr>\n",
       "      <th>32</th>\n",
       "      <td>15.21</td>\n",
       "    </tr>\n",
       "    <tr>\n",
       "      <th>33</th>\n",
       "      <td>15.62</td>\n",
       "    </tr>\n",
       "    <tr>\n",
       "      <th>34</th>\n",
       "      <td>15.11</td>\n",
       "    </tr>\n",
       "    <tr>\n",
       "      <th>35</th>\n",
       "      <td>14.16</td>\n",
       "    </tr>\n",
       "    <tr>\n",
       "      <th>36</th>\n",
       "      <td>12.74</td>\n",
       "    </tr>\n",
       "    <tr>\n",
       "      <th>37</th>\n",
       "      <td>11.39</td>\n",
       "    </tr>\n",
       "    <tr>\n",
       "      <th>38</th>\n",
       "      <td>10.68</td>\n",
       "    </tr>\n",
       "    <tr>\n",
       "      <th>39</th>\n",
       "      <td>10.42</td>\n",
       "    </tr>\n",
       "  </tbody>\n",
       "</table>\n",
       "</div>"
      ],
      "text/plain": [
       "        1\n",
       "0   13.99\n",
       "1   14.00\n",
       "2   13.74\n",
       "3   12.86\n",
       "4   11.56\n",
       "5   10.18\n",
       "6    9.20\n",
       "7    9.03\n",
       "8   14.72\n",
       "9   14.56\n",
       "10  13.87\n",
       "11  12.88\n",
       "12  11.59\n",
       "13  10.41\n",
       "14   9.44\n",
       "15   9.14\n",
       "16  13.31\n",
       "17  13.96\n",
       "18  13.31\n",
       "19  12.28\n",
       "20  11.21\n",
       "21   9.87\n",
       "22   8.84\n",
       "23   8.51\n",
       "24  14.41\n",
       "25  14.73\n",
       "26  14.09\n",
       "27  13.57\n",
       "28  12.47\n",
       "29  11.09\n",
       "30   9.98\n",
       "31   9.44\n",
       "32  15.21\n",
       "33  15.62\n",
       "34  15.11\n",
       "35  14.16\n",
       "36  12.74\n",
       "37  11.39\n",
       "38  10.68\n",
       "39  10.42"
      ]
     },
     "execution_count": 66,
     "metadata": {},
     "output_type": "execute_result"
    }
   ],
   "source": [
    "df_values = df[df['cluster']==1].iloc[:,:-1]\n",
    "\n",
    "datalist = []\n",
    "datalist.append(df_values)\n",
    "\n",
    "data_array = np.array(datalist)\n",
    "\n",
    "data_reshape = data_array.reshape(1,40)\n",
    "\n",
    "data_reshape[0]\n",
    "\n",
    "# 군집 1\n",
    "cl1 = pd.DataFrame({'1':data_reshape[0]})\n",
    "cl1"
   ]
  },
  {
   "cell_type": "code",
   "execution_count": 35,
   "id": "4978cdf2",
   "metadata": {},
   "outputs": [],
   "source": [
    "from scipy import stats"
   ]
  },
  {
   "cell_type": "code",
   "execution_count": 68,
   "id": "52891912",
   "metadata": {},
   "outputs": [
    {
     "name": "stdout",
     "output_type": "stream",
     "text": [
      "ShapiroResult(statistic=0.9536594152450562, pvalue=0.0032457567285746336)\n",
      "ShapiroResult(statistic=0.9357972145080566, pvalue=0.025006700307130814)\n"
     ]
    }
   ],
   "source": [
    "# 정규성 검정\n",
    "print(stats.shapiro(cl0))\n",
    "print(stats.shapiro(cl1))"
   ]
  },
  {
   "cell_type": "markdown",
   "id": "956617d6",
   "metadata": {},
   "source": [
    "정규성을 만족하지 않는다."
   ]
  },
  {
   "cell_type": "code",
   "execution_count": 73,
   "id": "396a0969",
   "metadata": {},
   "outputs": [
    {
     "name": "stdout",
     "output_type": "stream",
     "text": [
      "분산의 동질성 검정통계량: 5.344\n",
      "분산의 동질성 p- value: 0.022\n",
      "\n",
      " \u001b[34m Levene, H. (1960).\u001b[0m  In Contributions to Probability and Statistics: Essays in Honor of Harold Hotelling, I. Olkin et al. eds., Stanford University Press, pp. 278-292.\n"
     ]
    }
   ],
   "source": [
    "# 등분산성 검정\n",
    "from scipy.stats import levene\n",
    "stat, p = levene(cl0['0'], cl1['1'])\n",
    "print(f'분산의 동질성 검정통계량: {stat:.3f}')\n",
    "print(f'분산의 동질성 p- value: {p:.3f}')\n",
    "print('\\n \\033[34m Levene, H. (1960).\\033[0m  In Contributions to Probability and Statistics: Essays in Honor of Harold Hotelling, I. Olkin et al. eds., Stanford University Press, pp. 278-292.')"
   ]
  },
  {
   "cell_type": "markdown",
   "id": "28cef7b8",
   "metadata": {},
   "source": [
    "등분산성 만족하지 않는다."
   ]
  },
  {
   "cell_type": "code",
   "execution_count": 74,
   "id": "365b11bf",
   "metadata": {},
   "outputs": [
    {
     "data": {
      "text/plain": [
       "MannwhitneyuResult(statistic=array([2461.5]), pvalue=array([0.00031373]))"
      ]
     },
     "execution_count": 74,
     "metadata": {},
     "output_type": "execute_result"
    }
   ],
   "source": [
    "# 군집 0,1 ttest\n",
    "stats.mannwhitneyu(cl0, cl1)"
   ]
  },
  {
   "cell_type": "markdown",
   "id": "d4587061",
   "metadata": {},
   "source": [
    "두 군집 간에 차이가 있다."
   ]
  },
  {
   "cell_type": "markdown",
   "id": "ec8ec58a",
   "metadata": {},
   "source": [
    "## T-test 검정 (군집간에 만족도 차이가 있는지)"
   ]
  },
  {
   "cell_type": "code",
   "execution_count": 75,
   "id": "aca9f93c",
   "metadata": {},
   "outputs": [
    {
     "data": {
      "text/html": [
       "<div>\n",
       "<style scoped>\n",
       "    .dataframe tbody tr th:only-of-type {\n",
       "        vertical-align: middle;\n",
       "    }\n",
       "\n",
       "    .dataframe tbody tr th {\n",
       "        vertical-align: top;\n",
       "    }\n",
       "\n",
       "    .dataframe thead th {\n",
       "        text-align: right;\n",
       "    }\n",
       "</style>\n",
       "<table border=\"1\" class=\"dataframe\">\n",
       "  <thead>\n",
       "    <tr style=\"text-align: right;\">\n",
       "      <th></th>\n",
       "      <th>2008</th>\n",
       "      <th>2010</th>\n",
       "      <th>2012</th>\n",
       "      <th>2014</th>\n",
       "      <th>2016</th>\n",
       "      <th>2018</th>\n",
       "      <th>2020</th>\n",
       "      <th>2022</th>\n",
       "      <th>cluster</th>\n",
       "    </tr>\n",
       "    <tr>\n",
       "      <th>행정구역별</th>\n",
       "      <th></th>\n",
       "      <th></th>\n",
       "      <th></th>\n",
       "      <th></th>\n",
       "      <th></th>\n",
       "      <th></th>\n",
       "      <th></th>\n",
       "      <th></th>\n",
       "      <th></th>\n",
       "    </tr>\n",
       "  </thead>\n",
       "  <tbody>\n",
       "    <tr>\n",
       "      <th>경기도</th>\n",
       "      <td>18.28</td>\n",
       "      <td>17.54</td>\n",
       "      <td>15.96</td>\n",
       "      <td>14.83</td>\n",
       "      <td>13.91</td>\n",
       "      <td>12.75</td>\n",
       "      <td>11.82</td>\n",
       "      <td>11.56</td>\n",
       "      <td>0</td>\n",
       "    </tr>\n",
       "    <tr>\n",
       "      <th>경상남도</th>\n",
       "      <td>16.47</td>\n",
       "      <td>16.58</td>\n",
       "      <td>15.43</td>\n",
       "      <td>14.38</td>\n",
       "      <td>12.96</td>\n",
       "      <td>11.53</td>\n",
       "      <td>10.84</td>\n",
       "      <td>10.63</td>\n",
       "      <td>0</td>\n",
       "    </tr>\n",
       "    <tr>\n",
       "      <th>광주광역시</th>\n",
       "      <td>19.13</td>\n",
       "      <td>19.04</td>\n",
       "      <td>16.92</td>\n",
       "      <td>15.82</td>\n",
       "      <td>14.24</td>\n",
       "      <td>12.48</td>\n",
       "      <td>11.36</td>\n",
       "      <td>11.14</td>\n",
       "      <td>0</td>\n",
       "    </tr>\n",
       "    <tr>\n",
       "      <th>대구광역시</th>\n",
       "      <td>18.40</td>\n",
       "      <td>17.98</td>\n",
       "      <td>16.30</td>\n",
       "      <td>15.00</td>\n",
       "      <td>13.27</td>\n",
       "      <td>11.61</td>\n",
       "      <td>10.58</td>\n",
       "      <td>10.15</td>\n",
       "      <td>0</td>\n",
       "    </tr>\n",
       "    <tr>\n",
       "      <th>대전광역시</th>\n",
       "      <td>17.93</td>\n",
       "      <td>17.61</td>\n",
       "      <td>16.13</td>\n",
       "      <td>14.97</td>\n",
       "      <td>13.41</td>\n",
       "      <td>11.71</td>\n",
       "      <td>10.71</td>\n",
       "      <td>10.23</td>\n",
       "      <td>0</td>\n",
       "    </tr>\n",
       "    <tr>\n",
       "      <th>부산광역시</th>\n",
       "      <td>17.02</td>\n",
       "      <td>16.54</td>\n",
       "      <td>15.03</td>\n",
       "      <td>14.01</td>\n",
       "      <td>12.80</td>\n",
       "      <td>11.51</td>\n",
       "      <td>10.68</td>\n",
       "      <td>10.31</td>\n",
       "      <td>0</td>\n",
       "    </tr>\n",
       "    <tr>\n",
       "      <th>서울특별시</th>\n",
       "      <td>17.59</td>\n",
       "      <td>17.08</td>\n",
       "      <td>15.82</td>\n",
       "      <td>14.70</td>\n",
       "      <td>13.32</td>\n",
       "      <td>12.01</td>\n",
       "      <td>11.15</td>\n",
       "      <td>10.85</td>\n",
       "      <td>0</td>\n",
       "    </tr>\n",
       "    <tr>\n",
       "      <th>울산광역시</th>\n",
       "      <td>19.07</td>\n",
       "      <td>18.07</td>\n",
       "      <td>16.06</td>\n",
       "      <td>14.67</td>\n",
       "      <td>12.99</td>\n",
       "      <td>11.51</td>\n",
       "      <td>10.60</td>\n",
       "      <td>10.51</td>\n",
       "      <td>0</td>\n",
       "    </tr>\n",
       "    <tr>\n",
       "      <th>인천광역시</th>\n",
       "      <td>18.45</td>\n",
       "      <td>17.64</td>\n",
       "      <td>15.57</td>\n",
       "      <td>14.36</td>\n",
       "      <td>13.37</td>\n",
       "      <td>12.06</td>\n",
       "      <td>11.32</td>\n",
       "      <td>11.21</td>\n",
       "      <td>0</td>\n",
       "    </tr>\n",
       "    <tr>\n",
       "      <th>제주특별자치도</th>\n",
       "      <td>17.35</td>\n",
       "      <td>17.72</td>\n",
       "      <td>16.97</td>\n",
       "      <td>15.86</td>\n",
       "      <td>14.48</td>\n",
       "      <td>13.08</td>\n",
       "      <td>12.11</td>\n",
       "      <td>4.87</td>\n",
       "      <td>0</td>\n",
       "    </tr>\n",
       "    <tr>\n",
       "      <th>충청북도</th>\n",
       "      <td>16.77</td>\n",
       "      <td>16.96</td>\n",
       "      <td>15.53</td>\n",
       "      <td>14.36</td>\n",
       "      <td>12.97</td>\n",
       "      <td>11.49</td>\n",
       "      <td>10.44</td>\n",
       "      <td>9.95</td>\n",
       "      <td>0</td>\n",
       "    </tr>\n",
       "    <tr>\n",
       "      <th>강원특별자치도</th>\n",
       "      <td>13.99</td>\n",
       "      <td>14.00</td>\n",
       "      <td>13.74</td>\n",
       "      <td>12.86</td>\n",
       "      <td>11.56</td>\n",
       "      <td>10.18</td>\n",
       "      <td>9.20</td>\n",
       "      <td>9.03</td>\n",
       "      <td>1</td>\n",
       "    </tr>\n",
       "    <tr>\n",
       "      <th>경상북도</th>\n",
       "      <td>14.72</td>\n",
       "      <td>14.56</td>\n",
       "      <td>13.87</td>\n",
       "      <td>12.88</td>\n",
       "      <td>11.59</td>\n",
       "      <td>10.41</td>\n",
       "      <td>9.44</td>\n",
       "      <td>9.14</td>\n",
       "      <td>1</td>\n",
       "    </tr>\n",
       "    <tr>\n",
       "      <th>전라남도</th>\n",
       "      <td>13.31</td>\n",
       "      <td>13.96</td>\n",
       "      <td>13.31</td>\n",
       "      <td>12.28</td>\n",
       "      <td>11.21</td>\n",
       "      <td>9.87</td>\n",
       "      <td>8.84</td>\n",
       "      <td>8.51</td>\n",
       "      <td>1</td>\n",
       "    </tr>\n",
       "    <tr>\n",
       "      <th>전라북도</th>\n",
       "      <td>14.41</td>\n",
       "      <td>14.73</td>\n",
       "      <td>14.09</td>\n",
       "      <td>13.57</td>\n",
       "      <td>12.47</td>\n",
       "      <td>11.09</td>\n",
       "      <td>9.98</td>\n",
       "      <td>9.44</td>\n",
       "      <td>1</td>\n",
       "    </tr>\n",
       "    <tr>\n",
       "      <th>충청남도</th>\n",
       "      <td>15.21</td>\n",
       "      <td>15.62</td>\n",
       "      <td>15.11</td>\n",
       "      <td>14.16</td>\n",
       "      <td>12.74</td>\n",
       "      <td>11.39</td>\n",
       "      <td>10.68</td>\n",
       "      <td>10.42</td>\n",
       "      <td>1</td>\n",
       "    </tr>\n",
       "  </tbody>\n",
       "</table>\n",
       "</div>"
      ],
      "text/plain": [
       "          2008   2010   2012   2014   2016   2018   2020   2022  cluster\n",
       "행정구역별                                                                   \n",
       "경기도      18.28  17.54  15.96  14.83  13.91  12.75  11.82  11.56        0\n",
       "경상남도     16.47  16.58  15.43  14.38  12.96  11.53  10.84  10.63        0\n",
       "광주광역시    19.13  19.04  16.92  15.82  14.24  12.48  11.36  11.14        0\n",
       "대구광역시    18.40  17.98  16.30  15.00  13.27  11.61  10.58  10.15        0\n",
       "대전광역시    17.93  17.61  16.13  14.97  13.41  11.71  10.71  10.23        0\n",
       "부산광역시    17.02  16.54  15.03  14.01  12.80  11.51  10.68  10.31        0\n",
       "서울특별시    17.59  17.08  15.82  14.70  13.32  12.01  11.15  10.85        0\n",
       "울산광역시    19.07  18.07  16.06  14.67  12.99  11.51  10.60  10.51        0\n",
       "인천광역시    18.45  17.64  15.57  14.36  13.37  12.06  11.32  11.21        0\n",
       "제주특별자치도  17.35  17.72  16.97  15.86  14.48  13.08  12.11   4.87        0\n",
       "충청북도     16.77  16.96  15.53  14.36  12.97  11.49  10.44   9.95        0\n",
       "강원특별자치도  13.99  14.00  13.74  12.86  11.56  10.18   9.20   9.03        1\n",
       "경상북도     14.72  14.56  13.87  12.88  11.59  10.41   9.44   9.14        1\n",
       "전라남도     13.31  13.96  13.31  12.28  11.21   9.87   8.84   8.51        1\n",
       "전라북도     14.41  14.73  14.09  13.57  12.47  11.09   9.98   9.44        1\n",
       "충청남도     15.21  15.62  15.11  14.16  12.74  11.39  10.68  10.42        1"
      ]
     },
     "execution_count": 75,
     "metadata": {},
     "output_type": "execute_result"
    }
   ],
   "source": [
    "df.sort_values(by='cluster')"
   ]
  },
  {
   "cell_type": "code",
   "execution_count": 76,
   "id": "a0ac613a",
   "metadata": {},
   "outputs": [
    {
     "data": {
      "text/plain": [
       "1      351.5\n",
       "2      359.1\n",
       "3      353.3\n",
       "4      352.6\n",
       "5      366.1\n",
       "       ...  \n",
       "126    367.9\n",
       "127    367.2\n",
       "129    370.9\n",
       "134    370.3\n",
       "135    370.7\n",
       "Name: 만족도환산점수, Length: 88, dtype: float64"
      ]
     },
     "execution_count": 76,
     "metadata": {},
     "output_type": "execute_result"
    }
   ],
   "source": [
    "# 0 : 경기, 경남, 광주, 대구, 대전, 부산, 서울, 울산, 인천, 제주, 충북 만족도\n",
    "cl_0 = df2[df2['행정구역별'].isin(['경기', '경남', '광주', '대구', '대전', '부산',\n",
    "                              '서울', '울산', '인천', '제주', '충북'])]['만족도환산점수']\n",
    "cl_0"
   ]
  },
  {
   "cell_type": "code",
   "execution_count": 77,
   "id": "9d31f269",
   "metadata": {
    "scrolled": true
   },
   "outputs": [
    {
     "data": {
      "text/plain": [
       "9      362.2\n",
       "11     378.6\n",
       "12     357.9\n",
       "13     369.2\n",
       "14     354.2\n",
       "26     347.0\n",
       "28     368.6\n",
       "29     343.8\n",
       "30     355.8\n",
       "31     338.0\n",
       "43     347.0\n",
       "45     345.2\n",
       "46     334.7\n",
       "47     355.8\n",
       "48     356.6\n",
       "60     349.8\n",
       "62     355.4\n",
       "63     341.5\n",
       "64     339.2\n",
       "65     356.4\n",
       "77     353.3\n",
       "79     379.0\n",
       "80     344.6\n",
       "81     359.5\n",
       "82     357.8\n",
       "94     360.6\n",
       "96     372.8\n",
       "97     358.3\n",
       "98     370.1\n",
       "99     373.7\n",
       "111    380.4\n",
       "113    386.1\n",
       "114    357.7\n",
       "115    394.1\n",
       "116    358.7\n",
       "128    376.7\n",
       "130    380.7\n",
       "131    340.3\n",
       "132    367.9\n",
       "133    366.9\n",
       "Name: 만족도환산점수, dtype: float64"
      ]
     },
     "execution_count": 77,
     "metadata": {},
     "output_type": "execute_result"
    }
   ],
   "source": [
    "# 1 :강원, 경북, 전남, 전북, 충남 만족도\n",
    "cl_1 = df2[df2['행정구역별'].isin(['강원', '경북', '전남', '전북', '충남'])]['만족도환산점수']\n",
    "cl_1"
   ]
  },
  {
   "cell_type": "code",
   "execution_count": 78,
   "id": "e0e1552a",
   "metadata": {},
   "outputs": [
    {
     "name": "stdout",
     "output_type": "stream",
     "text": [
      "ShapiroResult(statistic=0.9808990955352783, pvalue=0.2207772582769394)\n",
      "ShapiroResult(statistic=0.9739684462547302, pvalue=0.47603899240493774)\n"
     ]
    }
   ],
   "source": [
    "# 정규성 검정\n",
    "print(stats.shapiro(cl_0))\n",
    "print(stats.shapiro(cl_1))"
   ]
  },
  {
   "cell_type": "markdown",
   "id": "d95822c5",
   "metadata": {},
   "source": [
    "정규성 만족한다."
   ]
  },
  {
   "cell_type": "code",
   "execution_count": 79,
   "id": "96defb26",
   "metadata": {},
   "outputs": [
    {
     "data": {
      "text/plain": [
       "BartlettResult(statistic=0.007065068220863251, pvalue=0.9330135295045208)"
      ]
     },
     "execution_count": 79,
     "metadata": {},
     "output_type": "execute_result"
    }
   ],
   "source": [
    "# 등분산성 검정\n",
    "# Bartlett.test 정규성 만족할 때만\n",
    "# Levene 검정은 표본이 정규성을 만족하든 만족하지 않든 상관없이 사용할 수 있다.\n",
    "from scipy.stats import bartlett\n",
    "stats.bartlett(cl_0, cl_1)"
   ]
  },
  {
   "cell_type": "markdown",
   "id": "021b2762",
   "metadata": {},
   "source": [
    "등분산성 만족한다."
   ]
  },
  {
   "cell_type": "code",
   "execution_count": 81,
   "id": "93213557",
   "metadata": {},
   "outputs": [
    {
     "data": {
      "text/plain": [
       "Ttest_indResult(statistic=0.5211498117550394, pvalue=0.6031771531289349)"
      ]
     },
     "execution_count": 81,
     "metadata": {},
     "output_type": "execute_result"
    }
   ],
   "source": [
    "stats.ttest_ind(cl_0, cl_1)"
   ]
  },
  {
   "cell_type": "markdown",
   "id": "90482be8",
   "metadata": {},
   "source": [
    "두 그룹 간에 차이가 없다."
   ]
  },
  {
   "cell_type": "code",
   "execution_count": 82,
   "id": "dc855859",
   "metadata": {},
   "outputs": [
    {
     "data": {
      "text/html": [
       "<div>\n",
       "<style scoped>\n",
       "    .dataframe tbody tr th:only-of-type {\n",
       "        vertical-align: middle;\n",
       "    }\n",
       "\n",
       "    .dataframe tbody tr th {\n",
       "        vertical-align: top;\n",
       "    }\n",
       "\n",
       "    .dataframe thead th {\n",
       "        text-align: right;\n",
       "    }\n",
       "</style>\n",
       "<table border=\"1\" class=\"dataframe\">\n",
       "  <thead>\n",
       "    <tr style=\"text-align: right;\">\n",
       "      <th></th>\n",
       "      <th>cluster</th>\n",
       "      <th>만족도</th>\n",
       "    </tr>\n",
       "  </thead>\n",
       "  <tbody>\n",
       "    <tr>\n",
       "      <th>1</th>\n",
       "      <td>0</td>\n",
       "      <td>351.5</td>\n",
       "    </tr>\n",
       "    <tr>\n",
       "      <th>2</th>\n",
       "      <td>0</td>\n",
       "      <td>359.1</td>\n",
       "    </tr>\n",
       "    <tr>\n",
       "      <th>3</th>\n",
       "      <td>0</td>\n",
       "      <td>353.3</td>\n",
       "    </tr>\n",
       "    <tr>\n",
       "      <th>4</th>\n",
       "      <td>0</td>\n",
       "      <td>352.6</td>\n",
       "    </tr>\n",
       "    <tr>\n",
       "      <th>5</th>\n",
       "      <td>0</td>\n",
       "      <td>366.1</td>\n",
       "    </tr>\n",
       "  </tbody>\n",
       "</table>\n",
       "</div>"
      ],
      "text/plain": [
       "   cluster    만족도\n",
       "1        0  351.5\n",
       "2        0  359.1\n",
       "3        0  353.3\n",
       "4        0  352.6\n",
       "5        0  366.1"
      ]
     },
     "execution_count": 82,
     "metadata": {},
     "output_type": "execute_result"
    }
   ],
   "source": [
    "clusters0 = pd.DataFrame({'cluster':0,\n",
    "                             '만족도':cl_0})\n",
    "clusters0.head()"
   ]
  },
  {
   "cell_type": "code",
   "execution_count": 83,
   "id": "9f71b93e",
   "metadata": {},
   "outputs": [
    {
     "data": {
      "text/html": [
       "<div>\n",
       "<style scoped>\n",
       "    .dataframe tbody tr th:only-of-type {\n",
       "        vertical-align: middle;\n",
       "    }\n",
       "\n",
       "    .dataframe tbody tr th {\n",
       "        vertical-align: top;\n",
       "    }\n",
       "\n",
       "    .dataframe thead th {\n",
       "        text-align: right;\n",
       "    }\n",
       "</style>\n",
       "<table border=\"1\" class=\"dataframe\">\n",
       "  <thead>\n",
       "    <tr style=\"text-align: right;\">\n",
       "      <th></th>\n",
       "      <th>cluster</th>\n",
       "      <th>만족도</th>\n",
       "    </tr>\n",
       "  </thead>\n",
       "  <tbody>\n",
       "    <tr>\n",
       "      <th>9</th>\n",
       "      <td>1</td>\n",
       "      <td>362.2</td>\n",
       "    </tr>\n",
       "    <tr>\n",
       "      <th>11</th>\n",
       "      <td>1</td>\n",
       "      <td>378.6</td>\n",
       "    </tr>\n",
       "    <tr>\n",
       "      <th>12</th>\n",
       "      <td>1</td>\n",
       "      <td>357.9</td>\n",
       "    </tr>\n",
       "    <tr>\n",
       "      <th>13</th>\n",
       "      <td>1</td>\n",
       "      <td>369.2</td>\n",
       "    </tr>\n",
       "    <tr>\n",
       "      <th>14</th>\n",
       "      <td>1</td>\n",
       "      <td>354.2</td>\n",
       "    </tr>\n",
       "  </tbody>\n",
       "</table>\n",
       "</div>"
      ],
      "text/plain": [
       "    cluster    만족도\n",
       "9         1  362.2\n",
       "11        1  378.6\n",
       "12        1  357.9\n",
       "13        1  369.2\n",
       "14        1  354.2"
      ]
     },
     "execution_count": 83,
     "metadata": {},
     "output_type": "execute_result"
    }
   ],
   "source": [
    "clusters1 = pd.DataFrame({'cluster':1,\n",
    "                             '만족도':cl_1})\n",
    "clusters1.head()"
   ]
  },
  {
   "cell_type": "code",
   "execution_count": 84,
   "id": "053ad255",
   "metadata": {},
   "outputs": [],
   "source": [
    "clusters = pd.concat([clusters0,clusters1])"
   ]
  },
  {
   "cell_type": "code",
   "execution_count": 85,
   "id": "2f54925c",
   "metadata": {},
   "outputs": [],
   "source": [
    "clusters = clusters.reset_index(drop=True)"
   ]
  },
  {
   "cell_type": "code",
   "execution_count": 86,
   "id": "e2983314",
   "metadata": {},
   "outputs": [
    {
     "data": {
      "text/html": [
       "<div>\n",
       "<style scoped>\n",
       "    .dataframe tbody tr th:only-of-type {\n",
       "        vertical-align: middle;\n",
       "    }\n",
       "\n",
       "    .dataframe tbody tr th {\n",
       "        vertical-align: top;\n",
       "    }\n",
       "\n",
       "    .dataframe thead th {\n",
       "        text-align: right;\n",
       "    }\n",
       "</style>\n",
       "<table border=\"1\" class=\"dataframe\">\n",
       "  <thead>\n",
       "    <tr style=\"text-align: right;\">\n",
       "      <th></th>\n",
       "      <th>cluster</th>\n",
       "      <th>만족도</th>\n",
       "    </tr>\n",
       "  </thead>\n",
       "  <tbody>\n",
       "    <tr>\n",
       "      <th>0</th>\n",
       "      <td>0</td>\n",
       "      <td>351.5</td>\n",
       "    </tr>\n",
       "    <tr>\n",
       "      <th>1</th>\n",
       "      <td>0</td>\n",
       "      <td>359.1</td>\n",
       "    </tr>\n",
       "    <tr>\n",
       "      <th>2</th>\n",
       "      <td>0</td>\n",
       "      <td>353.3</td>\n",
       "    </tr>\n",
       "    <tr>\n",
       "      <th>3</th>\n",
       "      <td>0</td>\n",
       "      <td>352.6</td>\n",
       "    </tr>\n",
       "    <tr>\n",
       "      <th>4</th>\n",
       "      <td>0</td>\n",
       "      <td>366.1</td>\n",
       "    </tr>\n",
       "    <tr>\n",
       "      <th>...</th>\n",
       "      <td>...</td>\n",
       "      <td>...</td>\n",
       "    </tr>\n",
       "    <tr>\n",
       "      <th>123</th>\n",
       "      <td>1</td>\n",
       "      <td>376.7</td>\n",
       "    </tr>\n",
       "    <tr>\n",
       "      <th>124</th>\n",
       "      <td>1</td>\n",
       "      <td>380.7</td>\n",
       "    </tr>\n",
       "    <tr>\n",
       "      <th>125</th>\n",
       "      <td>1</td>\n",
       "      <td>340.3</td>\n",
       "    </tr>\n",
       "    <tr>\n",
       "      <th>126</th>\n",
       "      <td>1</td>\n",
       "      <td>367.9</td>\n",
       "    </tr>\n",
       "    <tr>\n",
       "      <th>127</th>\n",
       "      <td>1</td>\n",
       "      <td>366.9</td>\n",
       "    </tr>\n",
       "  </tbody>\n",
       "</table>\n",
       "<p>128 rows × 2 columns</p>\n",
       "</div>"
      ],
      "text/plain": [
       "     cluster    만족도\n",
       "0          0  351.5\n",
       "1          0  359.1\n",
       "2          0  353.3\n",
       "3          0  352.6\n",
       "4          0  366.1\n",
       "..       ...    ...\n",
       "123        1  376.7\n",
       "124        1  380.7\n",
       "125        1  340.3\n",
       "126        1  367.9\n",
       "127        1  366.9\n",
       "\n",
       "[128 rows x 2 columns]"
      ]
     },
     "execution_count": 86,
     "metadata": {},
     "output_type": "execute_result"
    }
   ],
   "source": [
    "clusters"
   ]
  },
  {
   "cell_type": "code",
   "execution_count": 87,
   "id": "8d7f1fd7",
   "metadata": {},
   "outputs": [],
   "source": [
    "def add_p_value_annotation(fig, array_columns, subplot=None, _format=dict(interline=0.07, text_height=1.07, color='black')):\n",
    "    ''' Adds notations giving the p-value between two box plot data (t-test two-sided comparison)\n",
    "    \n",
    "    Parameters:\n",
    "    ----------\n",
    "    fig: figure\n",
    "        plotly boxplot figure\n",
    "    array_columns: np.array\n",
    "        array of which columns to compare \n",
    "        e.g.: [[0,1], [1,2]] compares column 0 with 1 and 1 with 2\n",
    "    subplot: None or int\n",
    "        specifies if the figures has subplots and what subplot to add the notation to\n",
    "    _format: dict\n",
    "        format characteristics for the lines\n",
    "\n",
    "    Returns:\n",
    "    -------\n",
    "    fig: figure\n",
    "        figure with the added notation\n",
    "    '''\n",
    "    # Specify in what y_range to plot for each pair of columns\n",
    "    y_range = np.zeros([len(array_columns), 2])\n",
    "    for i in range(len(array_columns)):\n",
    "        y_range[i] = [1.01+i*_format['interline'], 1.02+i*_format['interline']]\n",
    "\n",
    "    # Get values from figure\n",
    "    fig_dict = fig.to_dict()\n",
    "\n",
    "    # Get indices if working with subplots\n",
    "    if subplot:\n",
    "        if subplot == 1:\n",
    "            subplot_str = ''\n",
    "        else:\n",
    "            subplot_str =str(subplot)\n",
    "        indices = [] #Change the box index to the indices of the data for that subplot\n",
    "        for index, data in enumerate(fig_dict['data']):\n",
    "            #print(index, data['xaxis'], 'x' + subplot_str)\n",
    "            if data['xaxis'] == 'x' + subplot_str:\n",
    "                indices = np.append(indices, index)\n",
    "        indices = [int(i) for i in indices]\n",
    "        print((indices))\n",
    "    else:\n",
    "        subplot_str = ''\n",
    "\n",
    "    # Print the p-values\n",
    "    for index, column_pair in enumerate(array_columns):\n",
    "        if subplot:\n",
    "            data_pair = [indices[column_pair[0]], indices[column_pair[1]]]\n",
    "        else:\n",
    "            data_pair = column_pair\n",
    "\n",
    "        # Mare sure it is selecting the data and subplot you want\n",
    "        #print('0:', fig_dict['data'][data_pair[0]]['name'], fig_dict['data'][data_pair[0]]['xaxis'])\n",
    "        #print('1:', fig_dict['data'][data_pair[1]]['name'], fig_dict['data'][data_pair[1]]['xaxis'])\n",
    "\n",
    "        # Get the p-value\n",
    "        pvalue = stats.ttest_ind(\n",
    "            fig_dict['data'][data_pair[0]]['y'],\n",
    "            fig_dict['data'][data_pair[1]]['y'],\n",
    "            equal_var=False,\n",
    "        )[1]\n",
    "        if pvalue >= 0.05:\n",
    "            symbol = 'ns'\n",
    "        elif pvalue >= 0.01: \n",
    "            symbol = '*'\n",
    "        elif pvalue >= 0.001:\n",
    "            symbol = '**'\n",
    "        else:\n",
    "            symbol = '***'\n",
    "        # Vertical line\n",
    "        fig.add_shape(type=\"line\",\n",
    "            xref=\"x\"+subplot_str, yref=\"y\"+subplot_str+\" domain\",\n",
    "            x0=column_pair[0], y0=y_range[index][0], \n",
    "            x1=column_pair[0], y1=y_range[index][1],\n",
    "            line=dict(color=_format['color'], width=2,)\n",
    "        )\n",
    "        # Horizontal line\n",
    "        fig.add_shape(type=\"line\",\n",
    "            xref=\"x\"+subplot_str, yref=\"y\"+subplot_str+\" domain\",\n",
    "            x0=column_pair[0], y0=y_range[index][1], \n",
    "            x1=column_pair[1], y1=y_range[index][1],\n",
    "            line=dict(color=_format['color'], width=2,)\n",
    "        )\n",
    "        # Vertical line\n",
    "        fig.add_shape(type=\"line\",\n",
    "            xref=\"x\"+subplot_str, yref=\"y\"+subplot_str+\" domain\",\n",
    "            x0=column_pair[1], y0=y_range[index][0], \n",
    "            x1=column_pair[1], y1=y_range[index][1],\n",
    "            line=dict(color=_format['color'], width=2,)\n",
    "        )\n",
    "        ## add text at the correct x, y coordinates\n",
    "        ## for bars, there is a direct mapping from the bar number to 0, 1, 2...\n",
    "        fig.add_annotation(dict(font=dict(color=_format['color'],size=14),\n",
    "            x=(column_pair[0] + column_pair[1])/2,\n",
    "            y=y_range[index][1]*_format['text_height'],\n",
    "            showarrow=False,\n",
    "            text=symbol,\n",
    "            textangle=0,\n",
    "            xref=\"x\"+subplot_str,\n",
    "            yref=\"y\"+subplot_str+\" domain\"\n",
    "        ))\n",
    "    return fig"
   ]
  },
  {
   "cell_type": "code",
   "execution_count": 92,
   "id": "c6db03fa",
   "metadata": {
    "scrolled": false
   },
   "outputs": [
    {
     "data": {
      "application/vnd.plotly.v1+json": {
       "config": {
        "plotlyServerURL": "https://plot.ly"
       },
       "data": [
        {
         "boxpoints": "outliers",
         "name": "0",
         "type": "box",
         "y": [
          351.5000000000001,
          359.1,
          353.3000000000001,
          352.6,
          366.1,
          348.1,
          348.2,
          357.1,
          347,
          354.5,
          364.6,
          354.6,
          331.2,
          349.4,
          354.2,
          344.2,
          346.4,
          342.1,
          346.3000000000001,
          343.1,
          345.5,
          357.6,
          347.8,
          347.3,
          342.8,
          343.6,
          355.4000000000001,
          347.2,
          331.8,
          351,
          339.2,
          356.9,
          359.6,
          358.5,
          358.6,
          347.5,
          364.9,
          339.6,
          362.3000000000001,
          352.7,
          355.1,
          354.9,
          366.8,
          381.7,
          360.4999999999999,
          361.7,
          357.5,
          359.8,
          346,
          346.6,
          354,
          357.7,
          356.5000000000001,
          365.6,
          367.4999999999999,
          376.4,
          376.3,
          368.9,
          380.3,
          371.3,
          369.9,
          376.7,
          365.2,
          378.4,
          365.1,
          374,
          383.4,
          388,
          357.2,
          391,
          391.4,
          383.4,
          378.6,
          374.3,
          379.5,
          388.1,
          405.1,
          362.9,
          366.5,
          371.6,
          354.9999999999999,
          386.4999999999999,
          370.6,
          367.9,
          367.2,
          370.9,
          370.3,
          370.7
         ]
        },
        {
         "boxpoints": "outliers",
         "name": "1",
         "type": "box",
         "y": [
          362.2,
          378.6,
          357.9,
          369.2,
          354.2,
          346.9999999999999,
          368.6,
          343.8,
          355.8,
          338,
          347,
          345.2,
          334.7,
          355.8,
          356.6,
          349.8,
          355.4,
          341.4999999999999,
          339.2,
          356.4,
          353.3,
          378.9999999999999,
          344.6,
          359.4999999999999,
          357.8,
          360.6,
          372.8,
          358.3000000000001,
          370.1,
          373.7,
          380.4,
          386.1,
          357.7,
          394.1,
          358.7,
          376.7,
          380.7,
          340.3,
          367.9,
          366.9
         ]
        }
       ],
       "layout": {
        "annotations": [
         {
          "font": {
           "color": "black",
           "size": 14
          },
          "showarrow": false,
          "text": "ns",
          "textangle": 0,
          "x": 0.5,
          "xref": "x",
          "y": 1.0914000000000001,
          "yref": "y domain"
         }
        ],
        "shapes": [
         {
          "line": {
           "color": "black",
           "width": 2
          },
          "type": "line",
          "x0": 0,
          "x1": 0,
          "xref": "x",
          "y0": 1.01,
          "y1": 1.02,
          "yref": "y domain"
         },
         {
          "line": {
           "color": "black",
           "width": 2
          },
          "type": "line",
          "x0": 0,
          "x1": 1,
          "xref": "x",
          "y0": 1.02,
          "y1": 1.02,
          "yref": "y domain"
         },
         {
          "line": {
           "color": "black",
           "width": 2
          },
          "type": "line",
          "x0": 1,
          "x1": 1,
          "xref": "x",
          "y0": 1.01,
          "y1": 1.02,
          "yref": "y domain"
         }
        ],
        "template": {
         "data": {
          "bar": [
           {
            "error_x": {
             "color": "#2a3f5f"
            },
            "error_y": {
             "color": "#2a3f5f"
            },
            "marker": {
             "line": {
              "color": "#E5ECF6",
              "width": 0.5
             },
             "pattern": {
              "fillmode": "overlay",
              "size": 10,
              "solidity": 0.2
             }
            },
            "type": "bar"
           }
          ],
          "barpolar": [
           {
            "marker": {
             "line": {
              "color": "#E5ECF6",
              "width": 0.5
             },
             "pattern": {
              "fillmode": "overlay",
              "size": 10,
              "solidity": 0.2
             }
            },
            "type": "barpolar"
           }
          ],
          "carpet": [
           {
            "aaxis": {
             "endlinecolor": "#2a3f5f",
             "gridcolor": "white",
             "linecolor": "white",
             "minorgridcolor": "white",
             "startlinecolor": "#2a3f5f"
            },
            "baxis": {
             "endlinecolor": "#2a3f5f",
             "gridcolor": "white",
             "linecolor": "white",
             "minorgridcolor": "white",
             "startlinecolor": "#2a3f5f"
            },
            "type": "carpet"
           }
          ],
          "choropleth": [
           {
            "colorbar": {
             "outlinewidth": 0,
             "ticks": ""
            },
            "type": "choropleth"
           }
          ],
          "contour": [
           {
            "colorbar": {
             "outlinewidth": 0,
             "ticks": ""
            },
            "colorscale": [
             [
              0,
              "#0d0887"
             ],
             [
              0.1111111111111111,
              "#46039f"
             ],
             [
              0.2222222222222222,
              "#7201a8"
             ],
             [
              0.3333333333333333,
              "#9c179e"
             ],
             [
              0.4444444444444444,
              "#bd3786"
             ],
             [
              0.5555555555555556,
              "#d8576b"
             ],
             [
              0.6666666666666666,
              "#ed7953"
             ],
             [
              0.7777777777777778,
              "#fb9f3a"
             ],
             [
              0.8888888888888888,
              "#fdca26"
             ],
             [
              1,
              "#f0f921"
             ]
            ],
            "type": "contour"
           }
          ],
          "contourcarpet": [
           {
            "colorbar": {
             "outlinewidth": 0,
             "ticks": ""
            },
            "type": "contourcarpet"
           }
          ],
          "heatmap": [
           {
            "colorbar": {
             "outlinewidth": 0,
             "ticks": ""
            },
            "colorscale": [
             [
              0,
              "#0d0887"
             ],
             [
              0.1111111111111111,
              "#46039f"
             ],
             [
              0.2222222222222222,
              "#7201a8"
             ],
             [
              0.3333333333333333,
              "#9c179e"
             ],
             [
              0.4444444444444444,
              "#bd3786"
             ],
             [
              0.5555555555555556,
              "#d8576b"
             ],
             [
              0.6666666666666666,
              "#ed7953"
             ],
             [
              0.7777777777777778,
              "#fb9f3a"
             ],
             [
              0.8888888888888888,
              "#fdca26"
             ],
             [
              1,
              "#f0f921"
             ]
            ],
            "type": "heatmap"
           }
          ],
          "heatmapgl": [
           {
            "colorbar": {
             "outlinewidth": 0,
             "ticks": ""
            },
            "colorscale": [
             [
              0,
              "#0d0887"
             ],
             [
              0.1111111111111111,
              "#46039f"
             ],
             [
              0.2222222222222222,
              "#7201a8"
             ],
             [
              0.3333333333333333,
              "#9c179e"
             ],
             [
              0.4444444444444444,
              "#bd3786"
             ],
             [
              0.5555555555555556,
              "#d8576b"
             ],
             [
              0.6666666666666666,
              "#ed7953"
             ],
             [
              0.7777777777777778,
              "#fb9f3a"
             ],
             [
              0.8888888888888888,
              "#fdca26"
             ],
             [
              1,
              "#f0f921"
             ]
            ],
            "type": "heatmapgl"
           }
          ],
          "histogram": [
           {
            "marker": {
             "pattern": {
              "fillmode": "overlay",
              "size": 10,
              "solidity": 0.2
             }
            },
            "type": "histogram"
           }
          ],
          "histogram2d": [
           {
            "colorbar": {
             "outlinewidth": 0,
             "ticks": ""
            },
            "colorscale": [
             [
              0,
              "#0d0887"
             ],
             [
              0.1111111111111111,
              "#46039f"
             ],
             [
              0.2222222222222222,
              "#7201a8"
             ],
             [
              0.3333333333333333,
              "#9c179e"
             ],
             [
              0.4444444444444444,
              "#bd3786"
             ],
             [
              0.5555555555555556,
              "#d8576b"
             ],
             [
              0.6666666666666666,
              "#ed7953"
             ],
             [
              0.7777777777777778,
              "#fb9f3a"
             ],
             [
              0.8888888888888888,
              "#fdca26"
             ],
             [
              1,
              "#f0f921"
             ]
            ],
            "type": "histogram2d"
           }
          ],
          "histogram2dcontour": [
           {
            "colorbar": {
             "outlinewidth": 0,
             "ticks": ""
            },
            "colorscale": [
             [
              0,
              "#0d0887"
             ],
             [
              0.1111111111111111,
              "#46039f"
             ],
             [
              0.2222222222222222,
              "#7201a8"
             ],
             [
              0.3333333333333333,
              "#9c179e"
             ],
             [
              0.4444444444444444,
              "#bd3786"
             ],
             [
              0.5555555555555556,
              "#d8576b"
             ],
             [
              0.6666666666666666,
              "#ed7953"
             ],
             [
              0.7777777777777778,
              "#fb9f3a"
             ],
             [
              0.8888888888888888,
              "#fdca26"
             ],
             [
              1,
              "#f0f921"
             ]
            ],
            "type": "histogram2dcontour"
           }
          ],
          "mesh3d": [
           {
            "colorbar": {
             "outlinewidth": 0,
             "ticks": ""
            },
            "type": "mesh3d"
           }
          ],
          "parcoords": [
           {
            "line": {
             "colorbar": {
              "outlinewidth": 0,
              "ticks": ""
             }
            },
            "type": "parcoords"
           }
          ],
          "pie": [
           {
            "automargin": true,
            "type": "pie"
           }
          ],
          "scatter": [
           {
            "fillpattern": {
             "fillmode": "overlay",
             "size": 10,
             "solidity": 0.2
            },
            "type": "scatter"
           }
          ],
          "scatter3d": [
           {
            "line": {
             "colorbar": {
              "outlinewidth": 0,
              "ticks": ""
             }
            },
            "marker": {
             "colorbar": {
              "outlinewidth": 0,
              "ticks": ""
             }
            },
            "type": "scatter3d"
           }
          ],
          "scattercarpet": [
           {
            "marker": {
             "colorbar": {
              "outlinewidth": 0,
              "ticks": ""
             }
            },
            "type": "scattercarpet"
           }
          ],
          "scattergeo": [
           {
            "marker": {
             "colorbar": {
              "outlinewidth": 0,
              "ticks": ""
             }
            },
            "type": "scattergeo"
           }
          ],
          "scattergl": [
           {
            "marker": {
             "colorbar": {
              "outlinewidth": 0,
              "ticks": ""
             }
            },
            "type": "scattergl"
           }
          ],
          "scattermapbox": [
           {
            "marker": {
             "colorbar": {
              "outlinewidth": 0,
              "ticks": ""
             }
            },
            "type": "scattermapbox"
           }
          ],
          "scatterpolar": [
           {
            "marker": {
             "colorbar": {
              "outlinewidth": 0,
              "ticks": ""
             }
            },
            "type": "scatterpolar"
           }
          ],
          "scatterpolargl": [
           {
            "marker": {
             "colorbar": {
              "outlinewidth": 0,
              "ticks": ""
             }
            },
            "type": "scatterpolargl"
           }
          ],
          "scatterternary": [
           {
            "marker": {
             "colorbar": {
              "outlinewidth": 0,
              "ticks": ""
             }
            },
            "type": "scatterternary"
           }
          ],
          "surface": [
           {
            "colorbar": {
             "outlinewidth": 0,
             "ticks": ""
            },
            "colorscale": [
             [
              0,
              "#0d0887"
             ],
             [
              0.1111111111111111,
              "#46039f"
             ],
             [
              0.2222222222222222,
              "#7201a8"
             ],
             [
              0.3333333333333333,
              "#9c179e"
             ],
             [
              0.4444444444444444,
              "#bd3786"
             ],
             [
              0.5555555555555556,
              "#d8576b"
             ],
             [
              0.6666666666666666,
              "#ed7953"
             ],
             [
              0.7777777777777778,
              "#fb9f3a"
             ],
             [
              0.8888888888888888,
              "#fdca26"
             ],
             [
              1,
              "#f0f921"
             ]
            ],
            "type": "surface"
           }
          ],
          "table": [
           {
            "cells": {
             "fill": {
              "color": "#EBF0F8"
             },
             "line": {
              "color": "white"
             }
            },
            "header": {
             "fill": {
              "color": "#C8D4E3"
             },
             "line": {
              "color": "white"
             }
            },
            "type": "table"
           }
          ]
         },
         "layout": {
          "annotationdefaults": {
           "arrowcolor": "#2a3f5f",
           "arrowhead": 0,
           "arrowwidth": 1
          },
          "autotypenumbers": "strict",
          "coloraxis": {
           "colorbar": {
            "outlinewidth": 0,
            "ticks": ""
           }
          },
          "colorscale": {
           "diverging": [
            [
             0,
             "#8e0152"
            ],
            [
             0.1,
             "#c51b7d"
            ],
            [
             0.2,
             "#de77ae"
            ],
            [
             0.3,
             "#f1b6da"
            ],
            [
             0.4,
             "#fde0ef"
            ],
            [
             0.5,
             "#f7f7f7"
            ],
            [
             0.6,
             "#e6f5d0"
            ],
            [
             0.7,
             "#b8e186"
            ],
            [
             0.8,
             "#7fbc41"
            ],
            [
             0.9,
             "#4d9221"
            ],
            [
             1,
             "#276419"
            ]
           ],
           "sequential": [
            [
             0,
             "#0d0887"
            ],
            [
             0.1111111111111111,
             "#46039f"
            ],
            [
             0.2222222222222222,
             "#7201a8"
            ],
            [
             0.3333333333333333,
             "#9c179e"
            ],
            [
             0.4444444444444444,
             "#bd3786"
            ],
            [
             0.5555555555555556,
             "#d8576b"
            ],
            [
             0.6666666666666666,
             "#ed7953"
            ],
            [
             0.7777777777777778,
             "#fb9f3a"
            ],
            [
             0.8888888888888888,
             "#fdca26"
            ],
            [
             1,
             "#f0f921"
            ]
           ],
           "sequentialminus": [
            [
             0,
             "#0d0887"
            ],
            [
             0.1111111111111111,
             "#46039f"
            ],
            [
             0.2222222222222222,
             "#7201a8"
            ],
            [
             0.3333333333333333,
             "#9c179e"
            ],
            [
             0.4444444444444444,
             "#bd3786"
            ],
            [
             0.5555555555555556,
             "#d8576b"
            ],
            [
             0.6666666666666666,
             "#ed7953"
            ],
            [
             0.7777777777777778,
             "#fb9f3a"
            ],
            [
             0.8888888888888888,
             "#fdca26"
            ],
            [
             1,
             "#f0f921"
            ]
           ]
          },
          "colorway": [
           "#636efa",
           "#EF553B",
           "#00cc96",
           "#ab63fa",
           "#FFA15A",
           "#19d3f3",
           "#FF6692",
           "#B6E880",
           "#FF97FF",
           "#FECB52"
          ],
          "font": {
           "color": "#2a3f5f"
          },
          "geo": {
           "bgcolor": "white",
           "lakecolor": "white",
           "landcolor": "#E5ECF6",
           "showlakes": true,
           "showland": true,
           "subunitcolor": "white"
          },
          "hoverlabel": {
           "align": "left"
          },
          "hovermode": "closest",
          "mapbox": {
           "style": "light"
          },
          "paper_bgcolor": "white",
          "plot_bgcolor": "#E5ECF6",
          "polar": {
           "angularaxis": {
            "gridcolor": "white",
            "linecolor": "white",
            "ticks": ""
           },
           "bgcolor": "#E5ECF6",
           "radialaxis": {
            "gridcolor": "white",
            "linecolor": "white",
            "ticks": ""
           }
          },
          "scene": {
           "xaxis": {
            "backgroundcolor": "#E5ECF6",
            "gridcolor": "white",
            "gridwidth": 2,
            "linecolor": "white",
            "showbackground": true,
            "ticks": "",
            "zerolinecolor": "white"
           },
           "yaxis": {
            "backgroundcolor": "#E5ECF6",
            "gridcolor": "white",
            "gridwidth": 2,
            "linecolor": "white",
            "showbackground": true,
            "ticks": "",
            "zerolinecolor": "white"
           },
           "zaxis": {
            "backgroundcolor": "#E5ECF6",
            "gridcolor": "white",
            "gridwidth": 2,
            "linecolor": "white",
            "showbackground": true,
            "ticks": "",
            "zerolinecolor": "white"
           }
          },
          "shapedefaults": {
           "line": {
            "color": "#2a3f5f"
           }
          },
          "ternary": {
           "aaxis": {
            "gridcolor": "white",
            "linecolor": "white",
            "ticks": ""
           },
           "baxis": {
            "gridcolor": "white",
            "linecolor": "white",
            "ticks": ""
           },
           "bgcolor": "#E5ECF6",
           "caxis": {
            "gridcolor": "white",
            "linecolor": "white",
            "ticks": ""
           }
          },
          "title": {
           "x": 0.05
          },
          "xaxis": {
           "automargin": true,
           "gridcolor": "white",
           "linecolor": "white",
           "ticks": "",
           "title": {
            "standoff": 15
           },
           "zerolinecolor": "white",
           "zerolinewidth": 2
          },
          "yaxis": {
           "automargin": true,
           "gridcolor": "white",
           "linecolor": "white",
           "ticks": "",
           "title": {
            "standoff": 15
           },
           "zerolinecolor": "white",
           "zerolinewidth": 2
          }
         }
        }
       }
      },
      "text/html": [
       "<div>                            <div id=\"e82506ee-1daa-44f4-b9ee-b86f22311f77\" class=\"plotly-graph-div\" style=\"height:525px; width:100%;\"></div>            <script type=\"text/javascript\">                require([\"plotly\"], function(Plotly) {                    window.PLOTLYENV=window.PLOTLYENV || {};                                    if (document.getElementById(\"e82506ee-1daa-44f4-b9ee-b86f22311f77\")) {                    Plotly.newPlot(                        \"e82506ee-1daa-44f4-b9ee-b86f22311f77\",                        [{\"boxpoints\":\"outliers\",\"name\":\"0\",\"y\":[351.5000000000001,359.1,353.3000000000001,352.6,366.1,348.1,348.2,357.1,347.0,354.5,364.6,354.6,331.2,349.4,354.2,344.2,346.4,342.1,346.3000000000001,343.1,345.5,357.6,347.8,347.3,342.8,343.6,355.4000000000001,347.2,331.8,351.0,339.2,356.9,359.6,358.5,358.6,347.5,364.9,339.6,362.3000000000001,352.7,355.1,354.9,366.8,381.7,360.4999999999999,361.7,357.5,359.8,346.0,346.6,354.0,357.7,356.5000000000001,365.6,367.4999999999999,376.4,376.3,368.9,380.3,371.3,369.9,376.7,365.2,378.4,365.1,374.0,383.4,388.0,357.2,391.0,391.4,383.4,378.6,374.3,379.5,388.1,405.1,362.9,366.5,371.6,354.9999999999999,386.4999999999999,370.6,367.9,367.2,370.9,370.3,370.7],\"type\":\"box\"},{\"boxpoints\":\"outliers\",\"name\":\"1\",\"y\":[362.2,378.6,357.9,369.2,354.2,346.9999999999999,368.6,343.8,355.8,338.0,347.0,345.2,334.7,355.8,356.6,349.8,355.4,341.4999999999999,339.2,356.4,353.3,378.9999999999999,344.6,359.4999999999999,357.8,360.6,372.8,358.3000000000001,370.1,373.7,380.4,386.1,357.7,394.1,358.7,376.7,380.7,340.3,367.9,366.9],\"type\":\"box\"}],                        {\"template\":{\"data\":{\"histogram2dcontour\":[{\"type\":\"histogram2dcontour\",\"colorbar\":{\"outlinewidth\":0,\"ticks\":\"\"},\"colorscale\":[[0.0,\"#0d0887\"],[0.1111111111111111,\"#46039f\"],[0.2222222222222222,\"#7201a8\"],[0.3333333333333333,\"#9c179e\"],[0.4444444444444444,\"#bd3786\"],[0.5555555555555556,\"#d8576b\"],[0.6666666666666666,\"#ed7953\"],[0.7777777777777778,\"#fb9f3a\"],[0.8888888888888888,\"#fdca26\"],[1.0,\"#f0f921\"]]}],\"choropleth\":[{\"type\":\"choropleth\",\"colorbar\":{\"outlinewidth\":0,\"ticks\":\"\"}}],\"histogram2d\":[{\"type\":\"histogram2d\",\"colorbar\":{\"outlinewidth\":0,\"ticks\":\"\"},\"colorscale\":[[0.0,\"#0d0887\"],[0.1111111111111111,\"#46039f\"],[0.2222222222222222,\"#7201a8\"],[0.3333333333333333,\"#9c179e\"],[0.4444444444444444,\"#bd3786\"],[0.5555555555555556,\"#d8576b\"],[0.6666666666666666,\"#ed7953\"],[0.7777777777777778,\"#fb9f3a\"],[0.8888888888888888,\"#fdca26\"],[1.0,\"#f0f921\"]]}],\"heatmap\":[{\"type\":\"heatmap\",\"colorbar\":{\"outlinewidth\":0,\"ticks\":\"\"},\"colorscale\":[[0.0,\"#0d0887\"],[0.1111111111111111,\"#46039f\"],[0.2222222222222222,\"#7201a8\"],[0.3333333333333333,\"#9c179e\"],[0.4444444444444444,\"#bd3786\"],[0.5555555555555556,\"#d8576b\"],[0.6666666666666666,\"#ed7953\"],[0.7777777777777778,\"#fb9f3a\"],[0.8888888888888888,\"#fdca26\"],[1.0,\"#f0f921\"]]}],\"heatmapgl\":[{\"type\":\"heatmapgl\",\"colorbar\":{\"outlinewidth\":0,\"ticks\":\"\"},\"colorscale\":[[0.0,\"#0d0887\"],[0.1111111111111111,\"#46039f\"],[0.2222222222222222,\"#7201a8\"],[0.3333333333333333,\"#9c179e\"],[0.4444444444444444,\"#bd3786\"],[0.5555555555555556,\"#d8576b\"],[0.6666666666666666,\"#ed7953\"],[0.7777777777777778,\"#fb9f3a\"],[0.8888888888888888,\"#fdca26\"],[1.0,\"#f0f921\"]]}],\"contourcarpet\":[{\"type\":\"contourcarpet\",\"colorbar\":{\"outlinewidth\":0,\"ticks\":\"\"}}],\"contour\":[{\"type\":\"contour\",\"colorbar\":{\"outlinewidth\":0,\"ticks\":\"\"},\"colorscale\":[[0.0,\"#0d0887\"],[0.1111111111111111,\"#46039f\"],[0.2222222222222222,\"#7201a8\"],[0.3333333333333333,\"#9c179e\"],[0.4444444444444444,\"#bd3786\"],[0.5555555555555556,\"#d8576b\"],[0.6666666666666666,\"#ed7953\"],[0.7777777777777778,\"#fb9f3a\"],[0.8888888888888888,\"#fdca26\"],[1.0,\"#f0f921\"]]}],\"surface\":[{\"type\":\"surface\",\"colorbar\":{\"outlinewidth\":0,\"ticks\":\"\"},\"colorscale\":[[0.0,\"#0d0887\"],[0.1111111111111111,\"#46039f\"],[0.2222222222222222,\"#7201a8\"],[0.3333333333333333,\"#9c179e\"],[0.4444444444444444,\"#bd3786\"],[0.5555555555555556,\"#d8576b\"],[0.6666666666666666,\"#ed7953\"],[0.7777777777777778,\"#fb9f3a\"],[0.8888888888888888,\"#fdca26\"],[1.0,\"#f0f921\"]]}],\"mesh3d\":[{\"type\":\"mesh3d\",\"colorbar\":{\"outlinewidth\":0,\"ticks\":\"\"}}],\"scatter\":[{\"fillpattern\":{\"fillmode\":\"overlay\",\"size\":10,\"solidity\":0.2},\"type\":\"scatter\"}],\"parcoords\":[{\"type\":\"parcoords\",\"line\":{\"colorbar\":{\"outlinewidth\":0,\"ticks\":\"\"}}}],\"scatterpolargl\":[{\"type\":\"scatterpolargl\",\"marker\":{\"colorbar\":{\"outlinewidth\":0,\"ticks\":\"\"}}}],\"bar\":[{\"error_x\":{\"color\":\"#2a3f5f\"},\"error_y\":{\"color\":\"#2a3f5f\"},\"marker\":{\"line\":{\"color\":\"#E5ECF6\",\"width\":0.5},\"pattern\":{\"fillmode\":\"overlay\",\"size\":10,\"solidity\":0.2}},\"type\":\"bar\"}],\"scattergeo\":[{\"type\":\"scattergeo\",\"marker\":{\"colorbar\":{\"outlinewidth\":0,\"ticks\":\"\"}}}],\"scatterpolar\":[{\"type\":\"scatterpolar\",\"marker\":{\"colorbar\":{\"outlinewidth\":0,\"ticks\":\"\"}}}],\"histogram\":[{\"marker\":{\"pattern\":{\"fillmode\":\"overlay\",\"size\":10,\"solidity\":0.2}},\"type\":\"histogram\"}],\"scattergl\":[{\"type\":\"scattergl\",\"marker\":{\"colorbar\":{\"outlinewidth\":0,\"ticks\":\"\"}}}],\"scatter3d\":[{\"type\":\"scatter3d\",\"line\":{\"colorbar\":{\"outlinewidth\":0,\"ticks\":\"\"}},\"marker\":{\"colorbar\":{\"outlinewidth\":0,\"ticks\":\"\"}}}],\"scattermapbox\":[{\"type\":\"scattermapbox\",\"marker\":{\"colorbar\":{\"outlinewidth\":0,\"ticks\":\"\"}}}],\"scatterternary\":[{\"type\":\"scatterternary\",\"marker\":{\"colorbar\":{\"outlinewidth\":0,\"ticks\":\"\"}}}],\"scattercarpet\":[{\"type\":\"scattercarpet\",\"marker\":{\"colorbar\":{\"outlinewidth\":0,\"ticks\":\"\"}}}],\"carpet\":[{\"aaxis\":{\"endlinecolor\":\"#2a3f5f\",\"gridcolor\":\"white\",\"linecolor\":\"white\",\"minorgridcolor\":\"white\",\"startlinecolor\":\"#2a3f5f\"},\"baxis\":{\"endlinecolor\":\"#2a3f5f\",\"gridcolor\":\"white\",\"linecolor\":\"white\",\"minorgridcolor\":\"white\",\"startlinecolor\":\"#2a3f5f\"},\"type\":\"carpet\"}],\"table\":[{\"cells\":{\"fill\":{\"color\":\"#EBF0F8\"},\"line\":{\"color\":\"white\"}},\"header\":{\"fill\":{\"color\":\"#C8D4E3\"},\"line\":{\"color\":\"white\"}},\"type\":\"table\"}],\"barpolar\":[{\"marker\":{\"line\":{\"color\":\"#E5ECF6\",\"width\":0.5},\"pattern\":{\"fillmode\":\"overlay\",\"size\":10,\"solidity\":0.2}},\"type\":\"barpolar\"}],\"pie\":[{\"automargin\":true,\"type\":\"pie\"}]},\"layout\":{\"autotypenumbers\":\"strict\",\"colorway\":[\"#636efa\",\"#EF553B\",\"#00cc96\",\"#ab63fa\",\"#FFA15A\",\"#19d3f3\",\"#FF6692\",\"#B6E880\",\"#FF97FF\",\"#FECB52\"],\"font\":{\"color\":\"#2a3f5f\"},\"hovermode\":\"closest\",\"hoverlabel\":{\"align\":\"left\"},\"paper_bgcolor\":\"white\",\"plot_bgcolor\":\"#E5ECF6\",\"polar\":{\"bgcolor\":\"#E5ECF6\",\"angularaxis\":{\"gridcolor\":\"white\",\"linecolor\":\"white\",\"ticks\":\"\"},\"radialaxis\":{\"gridcolor\":\"white\",\"linecolor\":\"white\",\"ticks\":\"\"}},\"ternary\":{\"bgcolor\":\"#E5ECF6\",\"aaxis\":{\"gridcolor\":\"white\",\"linecolor\":\"white\",\"ticks\":\"\"},\"baxis\":{\"gridcolor\":\"white\",\"linecolor\":\"white\",\"ticks\":\"\"},\"caxis\":{\"gridcolor\":\"white\",\"linecolor\":\"white\",\"ticks\":\"\"}},\"coloraxis\":{\"colorbar\":{\"outlinewidth\":0,\"ticks\":\"\"}},\"colorscale\":{\"sequential\":[[0.0,\"#0d0887\"],[0.1111111111111111,\"#46039f\"],[0.2222222222222222,\"#7201a8\"],[0.3333333333333333,\"#9c179e\"],[0.4444444444444444,\"#bd3786\"],[0.5555555555555556,\"#d8576b\"],[0.6666666666666666,\"#ed7953\"],[0.7777777777777778,\"#fb9f3a\"],[0.8888888888888888,\"#fdca26\"],[1.0,\"#f0f921\"]],\"sequentialminus\":[[0.0,\"#0d0887\"],[0.1111111111111111,\"#46039f\"],[0.2222222222222222,\"#7201a8\"],[0.3333333333333333,\"#9c179e\"],[0.4444444444444444,\"#bd3786\"],[0.5555555555555556,\"#d8576b\"],[0.6666666666666666,\"#ed7953\"],[0.7777777777777778,\"#fb9f3a\"],[0.8888888888888888,\"#fdca26\"],[1.0,\"#f0f921\"]],\"diverging\":[[0,\"#8e0152\"],[0.1,\"#c51b7d\"],[0.2,\"#de77ae\"],[0.3,\"#f1b6da\"],[0.4,\"#fde0ef\"],[0.5,\"#f7f7f7\"],[0.6,\"#e6f5d0\"],[0.7,\"#b8e186\"],[0.8,\"#7fbc41\"],[0.9,\"#4d9221\"],[1,\"#276419\"]]},\"xaxis\":{\"gridcolor\":\"white\",\"linecolor\":\"white\",\"ticks\":\"\",\"title\":{\"standoff\":15},\"zerolinecolor\":\"white\",\"automargin\":true,\"zerolinewidth\":2},\"yaxis\":{\"gridcolor\":\"white\",\"linecolor\":\"white\",\"ticks\":\"\",\"title\":{\"standoff\":15},\"zerolinecolor\":\"white\",\"automargin\":true,\"zerolinewidth\":2},\"scene\":{\"xaxis\":{\"backgroundcolor\":\"#E5ECF6\",\"gridcolor\":\"white\",\"linecolor\":\"white\",\"showbackground\":true,\"ticks\":\"\",\"zerolinecolor\":\"white\",\"gridwidth\":2},\"yaxis\":{\"backgroundcolor\":\"#E5ECF6\",\"gridcolor\":\"white\",\"linecolor\":\"white\",\"showbackground\":true,\"ticks\":\"\",\"zerolinecolor\":\"white\",\"gridwidth\":2},\"zaxis\":{\"backgroundcolor\":\"#E5ECF6\",\"gridcolor\":\"white\",\"linecolor\":\"white\",\"showbackground\":true,\"ticks\":\"\",\"zerolinecolor\":\"white\",\"gridwidth\":2}},\"shapedefaults\":{\"line\":{\"color\":\"#2a3f5f\"}},\"annotationdefaults\":{\"arrowcolor\":\"#2a3f5f\",\"arrowhead\":0,\"arrowwidth\":1},\"geo\":{\"bgcolor\":\"white\",\"landcolor\":\"#E5ECF6\",\"subunitcolor\":\"white\",\"showland\":true,\"showlakes\":true,\"lakecolor\":\"white\"},\"title\":{\"x\":0.05},\"mapbox\":{\"style\":\"light\"}}},\"shapes\":[{\"line\":{\"color\":\"black\",\"width\":2},\"type\":\"line\",\"x0\":0,\"x1\":0,\"xref\":\"x\",\"y0\":1.01,\"y1\":1.02,\"yref\":\"y domain\"},{\"line\":{\"color\":\"black\",\"width\":2},\"type\":\"line\",\"x0\":0,\"x1\":1,\"xref\":\"x\",\"y0\":1.02,\"y1\":1.02,\"yref\":\"y domain\"},{\"line\":{\"color\":\"black\",\"width\":2},\"type\":\"line\",\"x0\":1,\"x1\":1,\"xref\":\"x\",\"y0\":1.01,\"y1\":1.02,\"yref\":\"y domain\"}],\"annotations\":[{\"font\":{\"color\":\"black\",\"size\":14},\"showarrow\":false,\"text\":\"ns\",\"textangle\":0,\"x\":0.5,\"xref\":\"x\",\"y\":1.0914000000000001,\"yref\":\"y domain\"}]},                        {\"responsive\": true}                    ).then(function(){\n",
       "                            \n",
       "var gd = document.getElementById('e82506ee-1daa-44f4-b9ee-b86f22311f77');\n",
       "var x = new MutationObserver(function (mutations, observer) {{\n",
       "        var display = window.getComputedStyle(gd).display;\n",
       "        if (!display || display === 'none') {{\n",
       "            console.log([gd, 'removed!']);\n",
       "            Plotly.purge(gd);\n",
       "            observer.disconnect();\n",
       "        }}\n",
       "}});\n",
       "\n",
       "// Listen for the removal of the full notebook cells\n",
       "var notebookContainer = gd.closest('#notebook-container');\n",
       "if (notebookContainer) {{\n",
       "    x.observe(notebookContainer, {childList: true});\n",
       "}}\n",
       "\n",
       "// Listen for the clearing of the current output cell\n",
       "var outputEl = gd.closest('.output');\n",
       "if (outputEl) {{\n",
       "    x.observe(outputEl, {childList: true});\n",
       "}}\n",
       "\n",
       "                        })                };                });            </script>        </div>"
      ]
     },
     "metadata": {},
     "output_type": "display_data"
    }
   ],
   "source": [
    "from statannot import add_stat_annotation\n",
    "import plotly.express as px\n",
    "import plotly.graph_objects as go\n",
    "import numpy as np\n",
    "\n",
    "fig = go.Figure()\n",
    "for cluster in [0,1]:\n",
    "    fig.add_trace(go.Box(\n",
    "        y=clusters[clusters['cluster'] == cluster].만족도,\n",
    "        name=cluster,\n",
    "        boxpoints='outliers'\n",
    "    ))\n",
    "fig = add_p_value_annotation(fig, [[0,1]])\n",
    "\n",
    "fig.show()"
   ]
  }
 ],
 "metadata": {
  "kernelspec": {
   "display_name": "Python 3 (ipykernel)",
   "language": "python",
   "name": "python3"
  },
  "language_info": {
   "codemirror_mode": {
    "name": "ipython",
    "version": 3
   },
   "file_extension": ".py",
   "mimetype": "text/x-python",
   "name": "python",
   "nbconvert_exporter": "python",
   "pygments_lexer": "ipython3",
   "version": "3.10.9"
  }
 },
 "nbformat": 4,
 "nbformat_minor": 5
}
